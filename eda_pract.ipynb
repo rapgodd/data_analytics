{
 "cells": [
  {
   "cell_type": "markdown",
   "id": "891a3a68-cb52-4b21-b35f-a10c7bff2f2e",
   "metadata": {
    "jp-MarkdownHeadingCollapsed": true
   },
   "source": [
    "<div class=\"alert alert-block\" style=\"border: 1px solid #000000FF;background-color:#B5BCFDFF;\">\n",
    "<font size=\"5em\" style=\"font-weight:bold;color:#000000FF;\">2020년 4월 1일 코로나 일일 확진자 수 데이터 분석</font><br>\n",
    "\n",
    "---\n",
    "\n",
    "- ##### 시간대 : ***UTC***\n",
    "- ##### 파일 네이밍 컨벤션 : ***MM-DD-YYYY.csv***\n",
    "- ##### 범위 : ***세계***\n",
    "- ##### 파일 출처 : ***[파일 깃허브 링크](https://github.com/CSSEGISandData/COVID-19/blob/master/csse_covid_19_data/README.md)***\n",
    "- ##### 데이터 출처 : ***WHO, U.S. Centers for Disease Control and Prevention (CDC)***\n",
    "\n",
    "</div>"
   ]
  },
  {
   "cell_type": "code",
   "execution_count": null,
   "id": "2c11effa-d9c7-4f7b-a964-fed4e241896f",
   "metadata": {},
   "outputs": [],
   "source": [
    "csv_file = pd.read_csv('COVID-19-master/csse_covid_19_data/csse_covid_19_daily_reports/04-01-2020.csv', encoding='utf-8-sig')"
   ]
  },
  {
   "cell_type": "code",
   "execution_count": 126,
   "id": "050f6556-a026-493f-b5dc-510a1dfc074c",
   "metadata": {
    "scrolled": true
   },
   "outputs": [
    {
     "data": {
      "text/plain": [
       "Index(['FIPS', 'Admin2', 'Province_State', 'Country_Region', 'Last_Update',\n",
       "       'Lat', 'Long_', 'Confirmed', 'Deaths', 'Recovered', 'Active',\n",
       "       'Combined_Key'],\n",
       "      dtype='object')"
      ]
     },
     "execution_count": 126,
     "metadata": {},
     "output_type": "execute_result"
    }
   ],
   "source": [
    "csv_file.columns"
   ]
  },
  {
   "cell_type": "markdown",
   "id": "41f9196f-9b32-40a1-be32-6089814c2323",
   "metadata": {},
   "source": [
    "<div class=\"alert alert-block\" style=\"border: 1px solid #000000FF;background-color:#B5BCFDFF;\">\n",
    "<font size=\"3em\" style=\"font-weight:bold;color:#000000FF;\">각각의 필드 의미</font><br>\n",
    "\n",
    "---\n",
    "\n",
    "- ##### FIPS : ***미국 주 내의 카운티를 식별할 수 있는 식별자***\n",
    "- ##### Admin2 : ***카운티의 이름***\n",
    "- ##### Province_State : ***미국 주의 명칭***\n",
    "- ##### Country_Region: ***국가 이름***\n",
    "- ##### Last Update : ***데이터가 마지막으로 갱신된 시점***\n",
    "- ##### Lat : ***위도***\n",
    "- ##### Long : ***경도***\n",
    "- ##### Confirmed : ***확진자 + 추청케이스***\n",
    "- ##### Death : ***사망자 + 추정케이스***\n",
    "- ##### Recovered : ***완치한 사람 수***\n",
    "- ##### Active : ***현재 환자수 (추정치) = Confirmed - Recovered - Deaths***\n",
    "- ##### Combined_Key : ***카운티,주,국가를 문자열로 합쳐서 하나의 고유 식별자로 만든 코드***\n",
    "\n",
    "</div>"
   ]
  },
  {
   "cell_type": "code",
   "execution_count": 36,
   "id": "190b5116-2fea-481a-aa9d-8f9e4fb9c8b6",
   "metadata": {
    "scrolled": true
   },
   "outputs": [
    {
     "data": {
      "text/html": [
       "<div>\n",
       "<style scoped>\n",
       "    .dataframe tbody tr th:only-of-type {\n",
       "        vertical-align: middle;\n",
       "    }\n",
       "\n",
       "    .dataframe tbody tr th {\n",
       "        vertical-align: top;\n",
       "    }\n",
       "\n",
       "    .dataframe thead th {\n",
       "        text-align: right;\n",
       "    }\n",
       "</style>\n",
       "<table border=\"1\" class=\"dataframe\">\n",
       "  <thead>\n",
       "    <tr style=\"text-align: right;\">\n",
       "      <th></th>\n",
       "      <th>FIPS</th>\n",
       "      <th>Admin2</th>\n",
       "      <th>Province_State</th>\n",
       "      <th>Country_Region</th>\n",
       "      <th>Last_Update</th>\n",
       "      <th>Lat</th>\n",
       "      <th>Long_</th>\n",
       "      <th>Confirmed</th>\n",
       "      <th>Deaths</th>\n",
       "      <th>Recovered</th>\n",
       "      <th>Active</th>\n",
       "      <th>Combined_Key</th>\n",
       "    </tr>\n",
       "  </thead>\n",
       "  <tbody>\n",
       "    <tr>\n",
       "      <th>0</th>\n",
       "      <td>45001.0</td>\n",
       "      <td>Abbeville</td>\n",
       "      <td>South Carolina</td>\n",
       "      <td>US</td>\n",
       "      <td>2020-04-01 21:58:49</td>\n",
       "      <td>34.223334</td>\n",
       "      <td>-82.461707</td>\n",
       "      <td>4</td>\n",
       "      <td>0</td>\n",
       "      <td>0</td>\n",
       "      <td>4</td>\n",
       "      <td>Abbeville, South Carolina, US</td>\n",
       "    </tr>\n",
       "    <tr>\n",
       "      <th>1</th>\n",
       "      <td>22001.0</td>\n",
       "      <td>Acadia</td>\n",
       "      <td>Louisiana</td>\n",
       "      <td>US</td>\n",
       "      <td>2020-04-01 21:58:49</td>\n",
       "      <td>30.295065</td>\n",
       "      <td>-92.414197</td>\n",
       "      <td>47</td>\n",
       "      <td>1</td>\n",
       "      <td>0</td>\n",
       "      <td>46</td>\n",
       "      <td>Acadia, Louisiana, US</td>\n",
       "    </tr>\n",
       "    <tr>\n",
       "      <th>2</th>\n",
       "      <td>51001.0</td>\n",
       "      <td>Accomack</td>\n",
       "      <td>Virginia</td>\n",
       "      <td>US</td>\n",
       "      <td>2020-04-01 21:58:49</td>\n",
       "      <td>37.767072</td>\n",
       "      <td>-75.632346</td>\n",
       "      <td>7</td>\n",
       "      <td>0</td>\n",
       "      <td>0</td>\n",
       "      <td>7</td>\n",
       "      <td>Accomack, Virginia, US</td>\n",
       "    </tr>\n",
       "    <tr>\n",
       "      <th>3</th>\n",
       "      <td>16001.0</td>\n",
       "      <td>Ada</td>\n",
       "      <td>Idaho</td>\n",
       "      <td>US</td>\n",
       "      <td>2020-04-01 21:58:49</td>\n",
       "      <td>43.452658</td>\n",
       "      <td>-116.241552</td>\n",
       "      <td>195</td>\n",
       "      <td>3</td>\n",
       "      <td>0</td>\n",
       "      <td>192</td>\n",
       "      <td>Ada, Idaho, US</td>\n",
       "    </tr>\n",
       "    <tr>\n",
       "      <th>4</th>\n",
       "      <td>19001.0</td>\n",
       "      <td>Adair</td>\n",
       "      <td>Iowa</td>\n",
       "      <td>US</td>\n",
       "      <td>2020-04-01 21:58:49</td>\n",
       "      <td>41.330756</td>\n",
       "      <td>-94.471059</td>\n",
       "      <td>1</td>\n",
       "      <td>0</td>\n",
       "      <td>0</td>\n",
       "      <td>1</td>\n",
       "      <td>Adair, Iowa, US</td>\n",
       "    </tr>\n",
       "    <tr>\n",
       "      <th>5</th>\n",
       "      <td>29001.0</td>\n",
       "      <td>Adair</td>\n",
       "      <td>Missouri</td>\n",
       "      <td>US</td>\n",
       "      <td>2020-04-01 21:58:49</td>\n",
       "      <td>40.190586</td>\n",
       "      <td>-92.600782</td>\n",
       "      <td>3</td>\n",
       "      <td>0</td>\n",
       "      <td>0</td>\n",
       "      <td>3</td>\n",
       "      <td>Adair, Missouri, US</td>\n",
       "    </tr>\n",
       "    <tr>\n",
       "      <th>6</th>\n",
       "      <td>40001.0</td>\n",
       "      <td>Adair</td>\n",
       "      <td>Oklahoma</td>\n",
       "      <td>US</td>\n",
       "      <td>2020-04-01 21:58:49</td>\n",
       "      <td>35.884942</td>\n",
       "      <td>-94.658593</td>\n",
       "      <td>8</td>\n",
       "      <td>0</td>\n",
       "      <td>0</td>\n",
       "      <td>8</td>\n",
       "      <td>Adair, Oklahoma, US</td>\n",
       "    </tr>\n",
       "    <tr>\n",
       "      <th>7</th>\n",
       "      <td>8001.0</td>\n",
       "      <td>Adams</td>\n",
       "      <td>Colorado</td>\n",
       "      <td>US</td>\n",
       "      <td>2020-04-01 21:58:49</td>\n",
       "      <td>39.874321</td>\n",
       "      <td>-104.336258</td>\n",
       "      <td>623</td>\n",
       "      <td>47</td>\n",
       "      <td>0</td>\n",
       "      <td>179</td>\n",
       "      <td>Adams, Colorado, US</td>\n",
       "    </tr>\n",
       "    <tr>\n",
       "      <th>8</th>\n",
       "      <td>17001.0</td>\n",
       "      <td>Adams</td>\n",
       "      <td>Illinois</td>\n",
       "      <td>US</td>\n",
       "      <td>2020-04-01 21:58:49</td>\n",
       "      <td>39.988156</td>\n",
       "      <td>-91.187868</td>\n",
       "      <td>2</td>\n",
       "      <td>0</td>\n",
       "      <td>0</td>\n",
       "      <td>2</td>\n",
       "      <td>Adams, Illinois, US</td>\n",
       "    </tr>\n",
       "    <tr>\n",
       "      <th>9</th>\n",
       "      <td>18001.0</td>\n",
       "      <td>Adams</td>\n",
       "      <td>Indiana</td>\n",
       "      <td>US</td>\n",
       "      <td>2020-04-01 21:58:49</td>\n",
       "      <td>40.745765</td>\n",
       "      <td>-84.936714</td>\n",
       "      <td>1</td>\n",
       "      <td>0</td>\n",
       "      <td>0</td>\n",
       "      <td>1</td>\n",
       "      <td>Adams, Indiana, US</td>\n",
       "    </tr>\n",
       "  </tbody>\n",
       "</table>\n",
       "</div>"
      ],
      "text/plain": [
       "      FIPS     Admin2  Province_State Country_Region          Last_Update  \\\n",
       "0  45001.0  Abbeville  South Carolina             US  2020-04-01 21:58:49   \n",
       "1  22001.0     Acadia       Louisiana             US  2020-04-01 21:58:49   \n",
       "2  51001.0   Accomack        Virginia             US  2020-04-01 21:58:49   \n",
       "3  16001.0        Ada           Idaho             US  2020-04-01 21:58:49   \n",
       "4  19001.0      Adair            Iowa             US  2020-04-01 21:58:49   \n",
       "5  29001.0      Adair        Missouri             US  2020-04-01 21:58:49   \n",
       "6  40001.0      Adair        Oklahoma             US  2020-04-01 21:58:49   \n",
       "7   8001.0      Adams        Colorado             US  2020-04-01 21:58:49   \n",
       "8  17001.0      Adams        Illinois             US  2020-04-01 21:58:49   \n",
       "9  18001.0      Adams         Indiana             US  2020-04-01 21:58:49   \n",
       "\n",
       "         Lat       Long_  Confirmed  Deaths  Recovered  Active  \\\n",
       "0  34.223334  -82.461707          4       0          0       4   \n",
       "1  30.295065  -92.414197         47       1          0      46   \n",
       "2  37.767072  -75.632346          7       0          0       7   \n",
       "3  43.452658 -116.241552        195       3          0     192   \n",
       "4  41.330756  -94.471059          1       0          0       1   \n",
       "5  40.190586  -92.600782          3       0          0       3   \n",
       "6  35.884942  -94.658593          8       0          0       8   \n",
       "7  39.874321 -104.336258        623      47          0     179   \n",
       "8  39.988156  -91.187868          2       0          0       2   \n",
       "9  40.745765  -84.936714          1       0          0       1   \n",
       "\n",
       "                    Combined_Key  \n",
       "0  Abbeville, South Carolina, US  \n",
       "1          Acadia, Louisiana, US  \n",
       "2         Accomack, Virginia, US  \n",
       "3                 Ada, Idaho, US  \n",
       "4                Adair, Iowa, US  \n",
       "5            Adair, Missouri, US  \n",
       "6            Adair, Oklahoma, US  \n",
       "7            Adams, Colorado, US  \n",
       "8            Adams, Illinois, US  \n",
       "9             Adams, Indiana, US  "
      ]
     },
     "execution_count": 36,
     "metadata": {},
     "output_type": "execute_result"
    }
   ],
   "source": [
    "csv_file.head(n=10)"
   ]
  },
  {
   "cell_type": "markdown",
   "id": "abbc64ed-6c65-49a0-8a7c-33ada90e5b70",
   "metadata": {},
   "source": [
    "- ##### info() : 컬럼별 데이터 타입과 실제 데이터가 들어있는 양을 보여준다.\n",
    "- ##### shape : 행의 수와 열의 수를 보여준다."
   ]
  },
  {
   "cell_type": "code",
   "execution_count": 158,
   "id": "d93fcef2-8e68-4797-a061-1157654db2c8",
   "metadata": {},
   "outputs": [
    {
     "name": "stdout",
     "output_type": "stream",
     "text": [
      "<class 'pandas.core.frame.DataFrame'>\n",
      "RangeIndex: 2522 entries, 0 to 2521\n",
      "Data columns (total 12 columns):\n",
      " #   Column          Non-Null Count  Dtype  \n",
      "---  ------          --------------  -----  \n",
      " 0   FIPS            2175 non-null   float64\n",
      " 1   Admin2          2221 non-null   object \n",
      " 2   Province_State  2338 non-null   object \n",
      " 3   Country_Region  2522 non-null   object \n",
      " 4   Last_Update     2522 non-null   object \n",
      " 5   Lat             2518 non-null   float64\n",
      " 6   Long_           2518 non-null   float64\n",
      " 7   Confirmed       2522 non-null   int64  \n",
      " 8   Deaths          2522 non-null   int64  \n",
      " 9   Recovered       2522 non-null   int64  \n",
      " 10  Active          2522 non-null   int64  \n",
      " 11  Combined_Key    2522 non-null   object \n",
      "dtypes: float64(3), int64(4), object(5)\n",
      "memory usage: 236.6+ KB\n"
     ]
    }
   ],
   "source": [
    "csv_file.info()"
   ]
  },
  {
   "cell_type": "code",
   "execution_count": 40,
   "id": "0189c206-0f3f-40f7-8a9c-3b907b6565e4",
   "metadata": {},
   "outputs": [
    {
     "data": {
      "text/plain": [
       "(2522, 12)"
      ]
     },
     "execution_count": 40,
     "metadata": {},
     "output_type": "execute_result"
    }
   ],
   "source": [
    "csv_file.shape"
   ]
  },
  {
   "cell_type": "markdown",
   "id": "971121ce-929e-4d96-a302-65200f5b3425",
   "metadata": {},
   "source": [
    "<div class=\"alert alert-block\" style=\"border: 1px solid #000000FF;background-color:#B5BCFDFF;\">\n",
    "<font size=\"3em\" style=\"font-weight:bold;color:#000000FF;\">CSV의 숫자 데이터의 기본 분석 결과를 바로 볼 수 있는 메서드 : describe()</font><br>\n",
    "\n",
    "---\n",
    "\n",
    "##### count: 갯수\n",
    "##### mean: 평균\n",
    "##### std: 표준편차\n",
    "##### min: 최소값\n",
    "##### max: 최대값\n",
    "##### 25%/50%/75%: 4분위수로 전체 데이터 중, 25%/50%/75% 각각에 해당하는 수치가 몇 인지를 알려줌\n",
    "</div>"
   ]
  },
  {
   "cell_type": "code",
   "execution_count": 54,
   "id": "168b7d54-b98e-4fbb-a5cf-5b5deaec0d88",
   "metadata": {},
   "outputs": [
    {
     "data": {
      "text/html": [
       "<div>\n",
       "<style scoped>\n",
       "    .dataframe tbody tr th:only-of-type {\n",
       "        vertical-align: middle;\n",
       "    }\n",
       "\n",
       "    .dataframe tbody tr th {\n",
       "        vertical-align: top;\n",
       "    }\n",
       "\n",
       "    .dataframe thead th {\n",
       "        text-align: right;\n",
       "    }\n",
       "</style>\n",
       "<table border=\"1\" class=\"dataframe\">\n",
       "  <thead>\n",
       "    <tr style=\"text-align: right;\">\n",
       "      <th></th>\n",
       "      <th>FIPS</th>\n",
       "      <th>Lat</th>\n",
       "      <th>Long_</th>\n",
       "      <th>Confirmed</th>\n",
       "      <th>Deaths</th>\n",
       "      <th>Recovered</th>\n",
       "      <th>Active</th>\n",
       "    </tr>\n",
       "  </thead>\n",
       "  <tbody>\n",
       "    <tr>\n",
       "      <th>count</th>\n",
       "      <td>2175.000000</td>\n",
       "      <td>2518.000000</td>\n",
       "      <td>2518.000000</td>\n",
       "      <td>2522.000000</td>\n",
       "      <td>2522.000000</td>\n",
       "      <td>2522.000000</td>\n",
       "      <td>2522.000000</td>\n",
       "    </tr>\n",
       "    <tr>\n",
       "      <th>mean</th>\n",
       "      <td>30114.640920</td>\n",
       "      <td>35.289228</td>\n",
       "      <td>-75.615792</td>\n",
       "      <td>372.307296</td>\n",
       "      <td>20.477002</td>\n",
       "      <td>76.656622</td>\n",
       "      <td>278.524187</td>\n",
       "    </tr>\n",
       "    <tr>\n",
       "      <th>std</th>\n",
       "      <td>15643.080021</td>\n",
       "      <td>12.149460</td>\n",
       "      <td>47.809329</td>\n",
       "      <td>4174.952692</td>\n",
       "      <td>363.948042</td>\n",
       "      <td>1494.960160</td>\n",
       "      <td>2945.050096</td>\n",
       "    </tr>\n",
       "    <tr>\n",
       "      <th>min</th>\n",
       "      <td>1001.000000</td>\n",
       "      <td>-71.949900</td>\n",
       "      <td>-175.198200</td>\n",
       "      <td>0.000000</td>\n",
       "      <td>0.000000</td>\n",
       "      <td>0.000000</td>\n",
       "      <td>0.000000</td>\n",
       "    </tr>\n",
       "    <tr>\n",
       "      <th>25%</th>\n",
       "      <td>18052.000000</td>\n",
       "      <td>33.086811</td>\n",
       "      <td>-94.749118</td>\n",
       "      <td>2.000000</td>\n",
       "      <td>0.000000</td>\n",
       "      <td>0.000000</td>\n",
       "      <td>2.000000</td>\n",
       "    </tr>\n",
       "    <tr>\n",
       "      <th>50%</th>\n",
       "      <td>29031.000000</td>\n",
       "      <td>37.526763</td>\n",
       "      <td>-86.065254</td>\n",
       "      <td>7.000000</td>\n",
       "      <td>0.000000</td>\n",
       "      <td>0.000000</td>\n",
       "      <td>6.000000</td>\n",
       "    </tr>\n",
       "    <tr>\n",
       "      <th>75%</th>\n",
       "      <td>45024.000000</td>\n",
       "      <td>41.406878</td>\n",
       "      <td>-79.042655</td>\n",
       "      <td>34.000000</td>\n",
       "      <td>1.000000</td>\n",
       "      <td>0.000000</td>\n",
       "      <td>31.000000</td>\n",
       "    </tr>\n",
       "    <tr>\n",
       "      <th>max</th>\n",
       "      <td>99999.000000</td>\n",
       "      <td>71.706900</td>\n",
       "      <td>178.065000</td>\n",
       "      <td>110574.000000</td>\n",
       "      <td>13155.000000</td>\n",
       "      <td>63326.000000</td>\n",
       "      <td>80572.000000</td>\n",
       "    </tr>\n",
       "  </tbody>\n",
       "</table>\n",
       "</div>"
      ],
      "text/plain": [
       "               FIPS          Lat        Long_      Confirmed        Deaths  \\\n",
       "count   2175.000000  2518.000000  2518.000000    2522.000000   2522.000000   \n",
       "mean   30114.640920    35.289228   -75.615792     372.307296     20.477002   \n",
       "std    15643.080021    12.149460    47.809329    4174.952692    363.948042   \n",
       "min     1001.000000   -71.949900  -175.198200       0.000000      0.000000   \n",
       "25%    18052.000000    33.086811   -94.749118       2.000000      0.000000   \n",
       "50%    29031.000000    37.526763   -86.065254       7.000000      0.000000   \n",
       "75%    45024.000000    41.406878   -79.042655      34.000000      1.000000   \n",
       "max    99999.000000    71.706900   178.065000  110574.000000  13155.000000   \n",
       "\n",
       "          Recovered        Active  \n",
       "count   2522.000000   2522.000000  \n",
       "mean      76.656622    278.524187  \n",
       "std     1494.960160   2945.050096  \n",
       "min        0.000000      0.000000  \n",
       "25%        0.000000      2.000000  \n",
       "50%        0.000000      6.000000  \n",
       "75%        0.000000     31.000000  \n",
       "max    63326.000000  80572.000000  "
      ]
     },
     "execution_count": 54,
     "metadata": {},
     "output_type": "execute_result"
    }
   ],
   "source": [
    "csv_file.describe()"
   ]
  },
  {
   "cell_type": "code",
   "execution_count": null,
   "id": "58bc05a9-9324-49db-85b9-edbeb8557549",
   "metadata": {},
   "outputs": [],
   "source": []
  },
  {
   "cell_type": "markdown",
   "id": "e3f88a2c-3fc6-41ee-94ab-6e70be0594f1",
   "metadata": {},
   "source": [
    "<div class=\"alert alert-block\" style=\"border: 1px solid #000000FF;background-color:#B5BCFDFF;\">\n",
    "<font size=\"3em\" style=\"font-weight:bold;color:#000000FF;\">컬럼 간의 상관관계를 볼 수 있는 메서드 : corr() </font><br>\n",
    "- ***참고*** : corr은 correlation의 줄임말이다.\n",
    "\n",
    "---\n",
    "\n",
    "### 해석 방법\n",
    "- #### 1에 가까울수록 한 컬럼의 값이 증가하면 다른 컬럼의 값도 증가하는 경향성이 높다는 의미이다.\n",
    "- #### -1에 가까울수록 한 컬럼의 값이 증가하면 다른 컬럼의 값은 감소하는 경향성이 높다는 의미이다.\n",
    "- #### 0에 가까울수록 한 컬럼의 값의 변화가 다른 컬럼 값의 변화에 영향을 주지 않는다는 의미이다.\n",
    "<br>\n",
    "\n",
    "##### 표 : 피어슨 상관계수 관계\n",
    "> <img src=\"https://upload.wikimedia.org/wikipedia/commons/thumb/3/34/Correlation_coefficient.png/600px-Correlation_coefficient.png\"><br>\n",
    "</div>"
   ]
  },
  {
   "cell_type": "code",
   "execution_count": 106,
   "id": "f5d0e4f5-b127-412c-8c3a-75fd14bf59c7",
   "metadata": {},
   "outputs": [],
   "source": [
    "corr = csv_file.corr(numeric_only=True)"
   ]
  },
  {
   "cell_type": "markdown",
   "id": "41f780af-487c-464a-b01a-33570f9ddfee",
   "metadata": {},
   "source": [
    "<div class=\"alert alert-block\" style=\"border: 1px solid #000000FF;background-color:#B5BCFDFF;\">\n",
    "<font size=\"3em\" style=\"font-weight:bold;color:#000000FF;\">파이썬 시각화 라이브러리</font><br>\n",
    "\n",
    "---\n",
    "\n",
    "- ##### matplotlib : ***파이썬에서 가장 기본적으로 사용***\n",
    "- ##### seaborn : ***matplotlib을 추상화 해서 쉽게 사용 가능하게 해줌.***\n",
    "- ##### plotly : ***최신 시각화 라이브러리 (사용자의 행동에 반응하는 인터렉티브 기능 제공)***\n",
    "</div>"
   ]
  },
  {
   "cell_type": "code",
   "execution_count": 116,
   "id": "ffbfaed3-8518-46d7-bf78-0431654936c9",
   "metadata": {},
   "outputs": [
    {
     "data": {
      "application/vnd.plotly.v1+json": {
       "config": {
        "plotlyServerURL": "https://plot.ly"
       },
       "data": [
        {
         "coloraxis": "coloraxis",
         "hovertemplate": "x: %{x}<br>y: %{y}<br>color: %{z}<extra></extra>",
         "name": "0",
         "texttemplate": "%{z}",
         "type": "heatmap",
         "x": [
          "FIPS",
          "Lat",
          "Long_",
          "Confirmed",
          "Deaths",
          "Recovered",
          "Active"
         ],
         "xaxis": "x",
         "y": [
          "FIPS",
          "Lat",
          "Long_",
          "Confirmed",
          "Deaths",
          "Recovered",
          "Active"
         ],
         "yaxis": "y",
         "z": [
          [
           1,
           0.1607172184175335,
           0.1714897770687374,
           -0.0005036020912551092,
           0.07646670168635832,
           null,
           0.002718361115632768
          ],
          [
           0.1607172184175335,
           1,
           -0.47642563208250444,
           0.029389371705094695,
           0.026308648892872048,
           -0.002781333706910776,
           0.03563106854557045
          ],
          [
           0.1714897770687374,
           -0.47642563208250444,
           1,
           0.14112610100450135,
           0.09692361464262367,
           0.14193212467989524,
           0.11973670774916664
          ],
          [
           -0.0005036020912551092,
           0.029389371705094695,
           0.14112610100450135,
           1,
           0.8371532816164128,
           0.7273051638297926,
           0.9424842358118267
          ],
          [
           0.07646670168635832,
           0.026308648892872048,
           0.09692361464262367,
           0.8371532816164128,
           1,
           0.5468584298388689,
           0.7965490144347845
          ],
          [
           null,
           -0.002781333706910776,
           0.14193212467989524,
           0.7273051638297926,
           0.5468584298388689,
           1,
           0.4624838528585792
          ],
          [
           0.002718361115632768,
           0.03563106854557045,
           0.11973670774916664,
           0.9424842358118267,
           0.7965490144347845,
           0.4624838528585792,
           1
          ]
         ]
        }
       ],
       "layout": {
        "coloraxis": {
         "cmax": 1,
         "cmin": -1,
         "colorscale": [
          [
           0,
           "rgb(247,251,255)"
          ],
          [
           0.125,
           "rgb(222,235,247)"
          ],
          [
           0.25,
           "rgb(198,219,239)"
          ],
          [
           0.375,
           "rgb(158,202,225)"
          ],
          [
           0.5,
           "rgb(107,174,214)"
          ],
          [
           0.625,
           "rgb(66,146,198)"
          ],
          [
           0.75,
           "rgb(33,113,181)"
          ],
          [
           0.875,
           "rgb(8,81,156)"
          ],
          [
           1,
           "rgb(8,48,107)"
          ]
         ]
        },
        "height": 600,
        "margin": {
         "t": 60
        },
        "template": {
         "data": {
          "bar": [
           {
            "error_x": {
             "color": "#2a3f5f"
            },
            "error_y": {
             "color": "#2a3f5f"
            },
            "marker": {
             "line": {
              "color": "#E5ECF6",
              "width": 0.5
             },
             "pattern": {
              "fillmode": "overlay",
              "size": 10,
              "solidity": 0.2
             }
            },
            "type": "bar"
           }
          ],
          "barpolar": [
           {
            "marker": {
             "line": {
              "color": "#E5ECF6",
              "width": 0.5
             },
             "pattern": {
              "fillmode": "overlay",
              "size": 10,
              "solidity": 0.2
             }
            },
            "type": "barpolar"
           }
          ],
          "carpet": [
           {
            "aaxis": {
             "endlinecolor": "#2a3f5f",
             "gridcolor": "white",
             "linecolor": "white",
             "minorgridcolor": "white",
             "startlinecolor": "#2a3f5f"
            },
            "baxis": {
             "endlinecolor": "#2a3f5f",
             "gridcolor": "white",
             "linecolor": "white",
             "minorgridcolor": "white",
             "startlinecolor": "#2a3f5f"
            },
            "type": "carpet"
           }
          ],
          "choropleth": [
           {
            "colorbar": {
             "outlinewidth": 0,
             "ticks": ""
            },
            "type": "choropleth"
           }
          ],
          "contour": [
           {
            "colorbar": {
             "outlinewidth": 0,
             "ticks": ""
            },
            "colorscale": [
             [
              0,
              "#0d0887"
             ],
             [
              0.1111111111111111,
              "#46039f"
             ],
             [
              0.2222222222222222,
              "#7201a8"
             ],
             [
              0.3333333333333333,
              "#9c179e"
             ],
             [
              0.4444444444444444,
              "#bd3786"
             ],
             [
              0.5555555555555556,
              "#d8576b"
             ],
             [
              0.6666666666666666,
              "#ed7953"
             ],
             [
              0.7777777777777778,
              "#fb9f3a"
             ],
             [
              0.8888888888888888,
              "#fdca26"
             ],
             [
              1,
              "#f0f921"
             ]
            ],
            "type": "contour"
           }
          ],
          "contourcarpet": [
           {
            "colorbar": {
             "outlinewidth": 0,
             "ticks": ""
            },
            "type": "contourcarpet"
           }
          ],
          "heatmap": [
           {
            "colorbar": {
             "outlinewidth": 0,
             "ticks": ""
            },
            "colorscale": [
             [
              0,
              "#0d0887"
             ],
             [
              0.1111111111111111,
              "#46039f"
             ],
             [
              0.2222222222222222,
              "#7201a8"
             ],
             [
              0.3333333333333333,
              "#9c179e"
             ],
             [
              0.4444444444444444,
              "#bd3786"
             ],
             [
              0.5555555555555556,
              "#d8576b"
             ],
             [
              0.6666666666666666,
              "#ed7953"
             ],
             [
              0.7777777777777778,
              "#fb9f3a"
             ],
             [
              0.8888888888888888,
              "#fdca26"
             ],
             [
              1,
              "#f0f921"
             ]
            ],
            "type": "heatmap"
           }
          ],
          "heatmapgl": [
           {
            "colorbar": {
             "outlinewidth": 0,
             "ticks": ""
            },
            "colorscale": [
             [
              0,
              "#0d0887"
             ],
             [
              0.1111111111111111,
              "#46039f"
             ],
             [
              0.2222222222222222,
              "#7201a8"
             ],
             [
              0.3333333333333333,
              "#9c179e"
             ],
             [
              0.4444444444444444,
              "#bd3786"
             ],
             [
              0.5555555555555556,
              "#d8576b"
             ],
             [
              0.6666666666666666,
              "#ed7953"
             ],
             [
              0.7777777777777778,
              "#fb9f3a"
             ],
             [
              0.8888888888888888,
              "#fdca26"
             ],
             [
              1,
              "#f0f921"
             ]
            ],
            "type": "heatmapgl"
           }
          ],
          "histogram": [
           {
            "marker": {
             "pattern": {
              "fillmode": "overlay",
              "size": 10,
              "solidity": 0.2
             }
            },
            "type": "histogram"
           }
          ],
          "histogram2d": [
           {
            "colorbar": {
             "outlinewidth": 0,
             "ticks": ""
            },
            "colorscale": [
             [
              0,
              "#0d0887"
             ],
             [
              0.1111111111111111,
              "#46039f"
             ],
             [
              0.2222222222222222,
              "#7201a8"
             ],
             [
              0.3333333333333333,
              "#9c179e"
             ],
             [
              0.4444444444444444,
              "#bd3786"
             ],
             [
              0.5555555555555556,
              "#d8576b"
             ],
             [
              0.6666666666666666,
              "#ed7953"
             ],
             [
              0.7777777777777778,
              "#fb9f3a"
             ],
             [
              0.8888888888888888,
              "#fdca26"
             ],
             [
              1,
              "#f0f921"
             ]
            ],
            "type": "histogram2d"
           }
          ],
          "histogram2dcontour": [
           {
            "colorbar": {
             "outlinewidth": 0,
             "ticks": ""
            },
            "colorscale": [
             [
              0,
              "#0d0887"
             ],
             [
              0.1111111111111111,
              "#46039f"
             ],
             [
              0.2222222222222222,
              "#7201a8"
             ],
             [
              0.3333333333333333,
              "#9c179e"
             ],
             [
              0.4444444444444444,
              "#bd3786"
             ],
             [
              0.5555555555555556,
              "#d8576b"
             ],
             [
              0.6666666666666666,
              "#ed7953"
             ],
             [
              0.7777777777777778,
              "#fb9f3a"
             ],
             [
              0.8888888888888888,
              "#fdca26"
             ],
             [
              1,
              "#f0f921"
             ]
            ],
            "type": "histogram2dcontour"
           }
          ],
          "mesh3d": [
           {
            "colorbar": {
             "outlinewidth": 0,
             "ticks": ""
            },
            "type": "mesh3d"
           }
          ],
          "parcoords": [
           {
            "line": {
             "colorbar": {
              "outlinewidth": 0,
              "ticks": ""
             }
            },
            "type": "parcoords"
           }
          ],
          "pie": [
           {
            "automargin": true,
            "type": "pie"
           }
          ],
          "scatter": [
           {
            "fillpattern": {
             "fillmode": "overlay",
             "size": 10,
             "solidity": 0.2
            },
            "type": "scatter"
           }
          ],
          "scatter3d": [
           {
            "line": {
             "colorbar": {
              "outlinewidth": 0,
              "ticks": ""
             }
            },
            "marker": {
             "colorbar": {
              "outlinewidth": 0,
              "ticks": ""
             }
            },
            "type": "scatter3d"
           }
          ],
          "scattercarpet": [
           {
            "marker": {
             "colorbar": {
              "outlinewidth": 0,
              "ticks": ""
             }
            },
            "type": "scattercarpet"
           }
          ],
          "scattergeo": [
           {
            "marker": {
             "colorbar": {
              "outlinewidth": 0,
              "ticks": ""
             }
            },
            "type": "scattergeo"
           }
          ],
          "scattergl": [
           {
            "marker": {
             "colorbar": {
              "outlinewidth": 0,
              "ticks": ""
             }
            },
            "type": "scattergl"
           }
          ],
          "scattermapbox": [
           {
            "marker": {
             "colorbar": {
              "outlinewidth": 0,
              "ticks": ""
             }
            },
            "type": "scattermapbox"
           }
          ],
          "scatterpolar": [
           {
            "marker": {
             "colorbar": {
              "outlinewidth": 0,
              "ticks": ""
             }
            },
            "type": "scatterpolar"
           }
          ],
          "scatterpolargl": [
           {
            "marker": {
             "colorbar": {
              "outlinewidth": 0,
              "ticks": ""
             }
            },
            "type": "scatterpolargl"
           }
          ],
          "scatterternary": [
           {
            "marker": {
             "colorbar": {
              "outlinewidth": 0,
              "ticks": ""
             }
            },
            "type": "scatterternary"
           }
          ],
          "surface": [
           {
            "colorbar": {
             "outlinewidth": 0,
             "ticks": ""
            },
            "colorscale": [
             [
              0,
              "#0d0887"
             ],
             [
              0.1111111111111111,
              "#46039f"
             ],
             [
              0.2222222222222222,
              "#7201a8"
             ],
             [
              0.3333333333333333,
              "#9c179e"
             ],
             [
              0.4444444444444444,
              "#bd3786"
             ],
             [
              0.5555555555555556,
              "#d8576b"
             ],
             [
              0.6666666666666666,
              "#ed7953"
             ],
             [
              0.7777777777777778,
              "#fb9f3a"
             ],
             [
              0.8888888888888888,
              "#fdca26"
             ],
             [
              1,
              "#f0f921"
             ]
            ],
            "type": "surface"
           }
          ],
          "table": [
           {
            "cells": {
             "fill": {
              "color": "#EBF0F8"
             },
             "line": {
              "color": "white"
             }
            },
            "header": {
             "fill": {
              "color": "#C8D4E3"
             },
             "line": {
              "color": "white"
             }
            },
            "type": "table"
           }
          ]
         },
         "layout": {
          "annotationdefaults": {
           "arrowcolor": "#2a3f5f",
           "arrowhead": 0,
           "arrowwidth": 1
          },
          "autotypenumbers": "strict",
          "coloraxis": {
           "colorbar": {
            "outlinewidth": 0,
            "ticks": ""
           }
          },
          "colorscale": {
           "diverging": [
            [
             0,
             "#8e0152"
            ],
            [
             0.1,
             "#c51b7d"
            ],
            [
             0.2,
             "#de77ae"
            ],
            [
             0.3,
             "#f1b6da"
            ],
            [
             0.4,
             "#fde0ef"
            ],
            [
             0.5,
             "#f7f7f7"
            ],
            [
             0.6,
             "#e6f5d0"
            ],
            [
             0.7,
             "#b8e186"
            ],
            [
             0.8,
             "#7fbc41"
            ],
            [
             0.9,
             "#4d9221"
            ],
            [
             1,
             "#276419"
            ]
           ],
           "sequential": [
            [
             0,
             "#0d0887"
            ],
            [
             0.1111111111111111,
             "#46039f"
            ],
            [
             0.2222222222222222,
             "#7201a8"
            ],
            [
             0.3333333333333333,
             "#9c179e"
            ],
            [
             0.4444444444444444,
             "#bd3786"
            ],
            [
             0.5555555555555556,
             "#d8576b"
            ],
            [
             0.6666666666666666,
             "#ed7953"
            ],
            [
             0.7777777777777778,
             "#fb9f3a"
            ],
            [
             0.8888888888888888,
             "#fdca26"
            ],
            [
             1,
             "#f0f921"
            ]
           ],
           "sequentialminus": [
            [
             0,
             "#0d0887"
            ],
            [
             0.1111111111111111,
             "#46039f"
            ],
            [
             0.2222222222222222,
             "#7201a8"
            ],
            [
             0.3333333333333333,
             "#9c179e"
            ],
            [
             0.4444444444444444,
             "#bd3786"
            ],
            [
             0.5555555555555556,
             "#d8576b"
            ],
            [
             0.6666666666666666,
             "#ed7953"
            ],
            [
             0.7777777777777778,
             "#fb9f3a"
            ],
            [
             0.8888888888888888,
             "#fdca26"
            ],
            [
             1,
             "#f0f921"
            ]
           ]
          },
          "colorway": [
           "#636efa",
           "#EF553B",
           "#00cc96",
           "#ab63fa",
           "#FFA15A",
           "#19d3f3",
           "#FF6692",
           "#B6E880",
           "#FF97FF",
           "#FECB52"
          ],
          "font": {
           "color": "#2a3f5f"
          },
          "geo": {
           "bgcolor": "white",
           "lakecolor": "white",
           "landcolor": "#E5ECF6",
           "showlakes": true,
           "showland": true,
           "subunitcolor": "white"
          },
          "hoverlabel": {
           "align": "left"
          },
          "hovermode": "closest",
          "mapbox": {
           "style": "light"
          },
          "paper_bgcolor": "white",
          "plot_bgcolor": "#E5ECF6",
          "polar": {
           "angularaxis": {
            "gridcolor": "white",
            "linecolor": "white",
            "ticks": ""
           },
           "bgcolor": "#E5ECF6",
           "radialaxis": {
            "gridcolor": "white",
            "linecolor": "white",
            "ticks": ""
           }
          },
          "scene": {
           "xaxis": {
            "backgroundcolor": "#E5ECF6",
            "gridcolor": "white",
            "gridwidth": 2,
            "linecolor": "white",
            "showbackground": true,
            "ticks": "",
            "zerolinecolor": "white"
           },
           "yaxis": {
            "backgroundcolor": "#E5ECF6",
            "gridcolor": "white",
            "gridwidth": 2,
            "linecolor": "white",
            "showbackground": true,
            "ticks": "",
            "zerolinecolor": "white"
           },
           "zaxis": {
            "backgroundcolor": "#E5ECF6",
            "gridcolor": "white",
            "gridwidth": 2,
            "linecolor": "white",
            "showbackground": true,
            "ticks": "",
            "zerolinecolor": "white"
           }
          },
          "shapedefaults": {
           "line": {
            "color": "#2a3f5f"
           }
          },
          "ternary": {
           "aaxis": {
            "gridcolor": "white",
            "linecolor": "white",
            "ticks": ""
           },
           "baxis": {
            "gridcolor": "white",
            "linecolor": "white",
            "ticks": ""
           },
           "bgcolor": "#E5ECF6",
           "caxis": {
            "gridcolor": "white",
            "linecolor": "white",
            "ticks": ""
           }
          },
          "title": {
           "x": 0.05
          },
          "xaxis": {
           "automargin": true,
           "gridcolor": "white",
           "linecolor": "white",
           "ticks": "",
           "title": {
            "standoff": 15
           },
           "zerolinecolor": "white",
           "zerolinewidth": 2
          },
          "yaxis": {
           "automargin": true,
           "gridcolor": "white",
           "linecolor": "white",
           "ticks": "",
           "title": {
            "standoff": 15
           },
           "zerolinecolor": "white",
           "zerolinewidth": 2
          }
         }
        },
        "width": 800,
        "xaxis": {
         "anchor": "y",
         "autorange": true,
         "constrain": "domain",
         "domain": [
          0.12662337662337664,
          0.8733766233766234
         ],
         "range": [
          -0.5,
          6.5
         ],
         "scaleanchor": "y",
         "type": "category"
        },
        "yaxis": {
         "anchor": "x",
         "autorange": true,
         "constrain": "domain",
         "domain": [
          0,
          1
         ],
         "range": [
          6.5,
          -0.5
         ],
         "type": "category"
        }
       }
      },
      "image/png": "[encoded data removed]",
      "text/html": [
       "<div>                            <div id=\"e957848f-42e0-44ff-9f12-c6c01d20c7bd\" class=\"plotly-graph-div\" style=\"height:600px; width:800px;\"></div>            <script type=\"text/javascript\">                require([\"plotly\"], function(Plotly) {                    window.PLOTLYENV=window.PLOTLYENV || {};                                    if (document.getElementById(\"e957848f-42e0-44ff-9f12-c6c01d20c7bd\")) {                    Plotly.newPlot(                        \"e957848f-42e0-44ff-9f12-c6c01d20c7bd\",                        [{\"coloraxis\":\"coloraxis\",\"name\":\"0\",\"texttemplate\":\"%{z}\",\"x\":[\"FIPS\",\"Lat\",\"Long_\",\"Confirmed\",\"Deaths\",\"Recovered\",\"Active\"],\"y\":[\"FIPS\",\"Lat\",\"Long_\",\"Confirmed\",\"Deaths\",\"Recovered\",\"Active\"],\"z\":[[1.0,0.1607172184175335,0.1714897770687374,-0.0005036020912551092,0.07646670168635832,null,0.002718361115632768],[0.1607172184175335,1.0,-0.47642563208250444,0.029389371705094695,0.026308648892872048,-0.002781333706910776,0.03563106854557045],[0.1714897770687374,-0.47642563208250444,1.0,0.14112610100450135,0.09692361464262367,0.14193212467989524,0.11973670774916664],[-0.0005036020912551092,0.029389371705094695,0.14112610100450135,1.0,0.8371532816164128,0.7273051638297926,0.9424842358118267],[0.07646670168635832,0.026308648892872048,0.09692361464262367,0.8371532816164128,1.0,0.5468584298388689,0.7965490144347845],[null,-0.002781333706910776,0.14193212467989524,0.7273051638297926,0.5468584298388689,1.0,0.4624838528585792],[0.002718361115632768,0.03563106854557045,0.11973670774916664,0.9424842358118267,0.7965490144347845,0.4624838528585792,1.0]],\"type\":\"heatmap\",\"xaxis\":\"x\",\"yaxis\":\"y\",\"hovertemplate\":\"x: %{x}\\u003cbr\\u003ey: %{y}\\u003cbr\\u003ecolor: %{z}\\u003cextra\\u003e\\u003c\\u002fextra\\u003e\"}],                        {\"template\":{\"data\":{\"histogram2dcontour\":[{\"type\":\"histogram2dcontour\",\"colorbar\":{\"outlinewidth\":0,\"ticks\":\"\"},\"colorscale\":[[0.0,\"#0d0887\"],[0.1111111111111111,\"#46039f\"],[0.2222222222222222,\"#7201a8\"],[0.3333333333333333,\"#9c179e\"],[0.4444444444444444,\"#bd3786\"],[0.5555555555555556,\"#d8576b\"],[0.6666666666666666,\"#ed7953\"],[0.7777777777777778,\"#fb9f3a\"],[0.8888888888888888,\"#fdca26\"],[1.0,\"#f0f921\"]]}],\"choropleth\":[{\"type\":\"choropleth\",\"colorbar\":{\"outlinewidth\":0,\"ticks\":\"\"}}],\"histogram2d\":[{\"type\":\"histogram2d\",\"colorbar\":{\"outlinewidth\":0,\"ticks\":\"\"},\"colorscale\":[[0.0,\"#0d0887\"],[0.1111111111111111,\"#46039f\"],[0.2222222222222222,\"#7201a8\"],[0.3333333333333333,\"#9c179e\"],[0.4444444444444444,\"#bd3786\"],[0.5555555555555556,\"#d8576b\"],[0.6666666666666666,\"#ed7953\"],[0.7777777777777778,\"#fb9f3a\"],[0.8888888888888888,\"#fdca26\"],[1.0,\"#f0f921\"]]}],\"heatmap\":[{\"type\":\"heatmap\",\"colorbar\":{\"outlinewidth\":0,\"ticks\":\"\"},\"colorscale\":[[0.0,\"#0d0887\"],[0.1111111111111111,\"#46039f\"],[0.2222222222222222,\"#7201a8\"],[0.3333333333333333,\"#9c179e\"],[0.4444444444444444,\"#bd3786\"],[0.5555555555555556,\"#d8576b\"],[0.6666666666666666,\"#ed7953\"],[0.7777777777777778,\"#fb9f3a\"],[0.8888888888888888,\"#fdca26\"],[1.0,\"#f0f921\"]]}],\"heatmapgl\":[{\"type\":\"heatmapgl\",\"colorbar\":{\"outlinewidth\":0,\"ticks\":\"\"},\"colorscale\":[[0.0,\"#0d0887\"],[0.1111111111111111,\"#46039f\"],[0.2222222222222222,\"#7201a8\"],[0.3333333333333333,\"#9c179e\"],[0.4444444444444444,\"#bd3786\"],[0.5555555555555556,\"#d8576b\"],[0.6666666666666666,\"#ed7953\"],[0.7777777777777778,\"#fb9f3a\"],[0.8888888888888888,\"#fdca26\"],[1.0,\"#f0f921\"]]}],\"contourcarpet\":[{\"type\":\"contourcarpet\",\"colorbar\":{\"outlinewidth\":0,\"ticks\":\"\"}}],\"contour\":[{\"type\":\"contour\",\"colorbar\":{\"outlinewidth\":0,\"ticks\":\"\"},\"colorscale\":[[0.0,\"#0d0887\"],[0.1111111111111111,\"#46039f\"],[0.2222222222222222,\"#7201a8\"],[0.3333333333333333,\"#9c179e\"],[0.4444444444444444,\"#bd3786\"],[0.5555555555555556,\"#d8576b\"],[0.6666666666666666,\"#ed7953\"],[0.7777777777777778,\"#fb9f3a\"],[0.8888888888888888,\"#fdca26\"],[1.0,\"#f0f921\"]]}],\"surface\":[{\"type\":\"surface\",\"colorbar\":{\"outlinewidth\":0,\"ticks\":\"\"},\"colorscale\":[[0.0,\"#0d0887\"],[0.1111111111111111,\"#46039f\"],[0.2222222222222222,\"#7201a8\"],[0.3333333333333333,\"#9c179e\"],[0.4444444444444444,\"#bd3786\"],[0.5555555555555556,\"#d8576b\"],[0.6666666666666666,\"#ed7953\"],[0.7777777777777778,\"#fb9f3a\"],[0.8888888888888888,\"#fdca26\"],[1.0,\"#f0f921\"]]}],\"mesh3d\":[{\"type\":\"mesh3d\",\"colorbar\":{\"outlinewidth\":0,\"ticks\":\"\"}}],\"scatter\":[{\"fillpattern\":{\"fillmode\":\"overlay\",\"size\":10,\"solidity\":0.2},\"type\":\"scatter\"}],\"parcoords\":[{\"type\":\"parcoords\",\"line\":{\"colorbar\":{\"outlinewidth\":0,\"ticks\":\"\"}}}],\"scatterpolargl\":[{\"type\":\"scatterpolargl\",\"marker\":{\"colorbar\":{\"outlinewidth\":0,\"ticks\":\"\"}}}],\"bar\":[{\"error_x\":{\"color\":\"#2a3f5f\"},\"error_y\":{\"color\":\"#2a3f5f\"},\"marker\":{\"line\":{\"color\":\"#E5ECF6\",\"width\":0.5},\"pattern\":{\"fillmode\":\"overlay\",\"size\":10,\"solidity\":0.2}},\"type\":\"bar\"}],\"scattergeo\":[{\"type\":\"scattergeo\",\"marker\":{\"colorbar\":{\"outlinewidth\":0,\"ticks\":\"\"}}}],\"scatterpolar\":[{\"type\":\"scatterpolar\",\"marker\":{\"colorbar\":{\"outlinewidth\":0,\"ticks\":\"\"}}}],\"histogram\":[{\"marker\":{\"pattern\":{\"fillmode\":\"overlay\",\"size\":10,\"solidity\":0.2}},\"type\":\"histogram\"}],\"scattergl\":[{\"type\":\"scattergl\",\"marker\":{\"colorbar\":{\"outlinewidth\":0,\"ticks\":\"\"}}}],\"scatter3d\":[{\"type\":\"scatter3d\",\"line\":{\"colorbar\":{\"outlinewidth\":0,\"ticks\":\"\"}},\"marker\":{\"colorbar\":{\"outlinewidth\":0,\"ticks\":\"\"}}}],\"scattermapbox\":[{\"type\":\"scattermapbox\",\"marker\":{\"colorbar\":{\"outlinewidth\":0,\"ticks\":\"\"}}}],\"scatterternary\":[{\"type\":\"scatterternary\",\"marker\":{\"colorbar\":{\"outlinewidth\":0,\"ticks\":\"\"}}}],\"scattercarpet\":[{\"type\":\"scattercarpet\",\"marker\":{\"colorbar\":{\"outlinewidth\":0,\"ticks\":\"\"}}}],\"carpet\":[{\"aaxis\":{\"endlinecolor\":\"#2a3f5f\",\"gridcolor\":\"white\",\"linecolor\":\"white\",\"minorgridcolor\":\"white\",\"startlinecolor\":\"#2a3f5f\"},\"baxis\":{\"endlinecolor\":\"#2a3f5f\",\"gridcolor\":\"white\",\"linecolor\":\"white\",\"minorgridcolor\":\"white\",\"startlinecolor\":\"#2a3f5f\"},\"type\":\"carpet\"}],\"table\":[{\"cells\":{\"fill\":{\"color\":\"#EBF0F8\"},\"line\":{\"color\":\"white\"}},\"header\":{\"fill\":{\"color\":\"#C8D4E3\"},\"line\":{\"color\":\"white\"}},\"type\":\"table\"}],\"barpolar\":[{\"marker\":{\"line\":{\"color\":\"#E5ECF6\",\"width\":0.5},\"pattern\":{\"fillmode\":\"overlay\",\"size\":10,\"solidity\":0.2}},\"type\":\"barpolar\"}],\"pie\":[{\"automargin\":true,\"type\":\"pie\"}]},\"layout\":{\"autotypenumbers\":\"strict\",\"colorway\":[\"#636efa\",\"#EF553B\",\"#00cc96\",\"#ab63fa\",\"#FFA15A\",\"#19d3f3\",\"#FF6692\",\"#B6E880\",\"#FF97FF\",\"#FECB52\"],\"font\":{\"color\":\"#2a3f5f\"},\"hovermode\":\"closest\",\"hoverlabel\":{\"align\":\"left\"},\"paper_bgcolor\":\"white\",\"plot_bgcolor\":\"#E5ECF6\",\"polar\":{\"bgcolor\":\"#E5ECF6\",\"angularaxis\":{\"gridcolor\":\"white\",\"linecolor\":\"white\",\"ticks\":\"\"},\"radialaxis\":{\"gridcolor\":\"white\",\"linecolor\":\"white\",\"ticks\":\"\"}},\"ternary\":{\"bgcolor\":\"#E5ECF6\",\"aaxis\":{\"gridcolor\":\"white\",\"linecolor\":\"white\",\"ticks\":\"\"},\"baxis\":{\"gridcolor\":\"white\",\"linecolor\":\"white\",\"ticks\":\"\"},\"caxis\":{\"gridcolor\":\"white\",\"linecolor\":\"white\",\"ticks\":\"\"}},\"coloraxis\":{\"colorbar\":{\"outlinewidth\":0,\"ticks\":\"\"}},\"colorscale\":{\"sequential\":[[0.0,\"#0d0887\"],[0.1111111111111111,\"#46039f\"],[0.2222222222222222,\"#7201a8\"],[0.3333333333333333,\"#9c179e\"],[0.4444444444444444,\"#bd3786\"],[0.5555555555555556,\"#d8576b\"],[0.6666666666666666,\"#ed7953\"],[0.7777777777777778,\"#fb9f3a\"],[0.8888888888888888,\"#fdca26\"],[1.0,\"#f0f921\"]],\"sequentialminus\":[[0.0,\"#0d0887\"],[0.1111111111111111,\"#46039f\"],[0.2222222222222222,\"#7201a8\"],[0.3333333333333333,\"#9c179e\"],[0.4444444444444444,\"#bd3786\"],[0.5555555555555556,\"#d8576b\"],[0.6666666666666666,\"#ed7953\"],[0.7777777777777778,\"#fb9f3a\"],[0.8888888888888888,\"#fdca26\"],[1.0,\"#f0f921\"]],\"diverging\":[[0,\"#8e0152\"],[0.1,\"#c51b7d\"],[0.2,\"#de77ae\"],[0.3,\"#f1b6da\"],[0.4,\"#fde0ef\"],[0.5,\"#f7f7f7\"],[0.6,\"#e6f5d0\"],[0.7,\"#b8e186\"],[0.8,\"#7fbc41\"],[0.9,\"#4d9221\"],[1,\"#276419\"]]},\"xaxis\":{\"gridcolor\":\"white\",\"linecolor\":\"white\",\"ticks\":\"\",\"title\":{\"standoff\":15},\"zerolinecolor\":\"white\",\"automargin\":true,\"zerolinewidth\":2},\"yaxis\":{\"gridcolor\":\"white\",\"linecolor\":\"white\",\"ticks\":\"\",\"title\":{\"standoff\":15},\"zerolinecolor\":\"white\",\"automargin\":true,\"zerolinewidth\":2},\"scene\":{\"xaxis\":{\"backgroundcolor\":\"#E5ECF6\",\"gridcolor\":\"white\",\"linecolor\":\"white\",\"showbackground\":true,\"ticks\":\"\",\"zerolinecolor\":\"white\",\"gridwidth\":2},\"yaxis\":{\"backgroundcolor\":\"#E5ECF6\",\"gridcolor\":\"white\",\"linecolor\":\"white\",\"showbackground\":true,\"ticks\":\"\",\"zerolinecolor\":\"white\",\"gridwidth\":2},\"zaxis\":{\"backgroundcolor\":\"#E5ECF6\",\"gridcolor\":\"white\",\"linecolor\":\"white\",\"showbackground\":true,\"ticks\":\"\",\"zerolinecolor\":\"white\",\"gridwidth\":2}},\"shapedefaults\":{\"line\":{\"color\":\"#2a3f5f\"}},\"annotationdefaults\":{\"arrowcolor\":\"#2a3f5f\",\"arrowhead\":0,\"arrowwidth\":1},\"geo\":{\"bgcolor\":\"white\",\"landcolor\":\"#E5ECF6\",\"subunitcolor\":\"white\",\"showland\":true,\"showlakes\":true,\"lakecolor\":\"white\"},\"title\":{\"x\":0.05},\"mapbox\":{\"style\":\"light\"}}},\"xaxis\":{\"anchor\":\"y\",\"domain\":[0.0,1.0],\"scaleanchor\":\"y\",\"constrain\":\"domain\"},\"yaxis\":{\"anchor\":\"x\",\"domain\":[0.0,1.0],\"autorange\":\"reversed\",\"constrain\":\"domain\"},\"coloraxis\":{\"colorscale\":[[0.0,\"rgb(247,251,255)\"],[0.125,\"rgb(222,235,247)\"],[0.25,\"rgb(198,219,239)\"],[0.375,\"rgb(158,202,225)\"],[0.5,\"rgb(107,174,214)\"],[0.625,\"rgb(66,146,198)\"],[0.75,\"rgb(33,113,181)\"],[0.875,\"rgb(8,81,156)\"],[1.0,\"rgb(8,48,107)\"]],\"cmin\":-1,\"cmax\":1},\"margin\":{\"t\":60},\"height\":600,\"width\":800},                        {\"responsive\": true}                    ).then(function(){\n",
       "                            \n",
       "var gd = document.getElementById('e957848f-42e0-44ff-9f12-c6c01d20c7bd');\n",
       "var x = new MutationObserver(function (mutations, observer) {{\n",
       "        var display = window.getComputedStyle(gd).display;\n",
       "        if (!display || display === 'none') {{\n",
       "            console.log([gd, 'removed!']);\n",
       "            Plotly.purge(gd);\n",
       "            observer.disconnect();\n",
       "        }}\n",
       "}});\n",
       "\n",
       "// Listen for the removal of the full notebook cells\n",
       "var notebookContainer = gd.closest('#notebook-container');\n",
       "if (notebookContainer) {{\n",
       "    x.observe(notebookContainer, {childList: true});\n",
       "}}\n",
       "\n",
       "// Listen for the clearing of the current output cell\n",
       "var outputEl = gd.closest('.output');\n",
       "if (outputEl) {{\n",
       "    x.observe(outputEl, {childList: true});\n",
       "}}\n",
       "\n",
       "                        })                };                });            </script>        </div>"
      ]
     },
     "metadata": {},
     "output_type": "display_data"
    }
   ],
   "source": [
    "import plotly.express as px\n",
    "\n",
    "plot = px.imshow(\n",
    "    corr,\n",
    "    text_auto=True, #칸 안에 상관관계 값 적음\n",
    "    color_continuous_scale='Blues', #색깔\n",
    "    zmin=-1, zmax=1, #상관관계 최소 최댓값\n",
    "    width=800, height=600 #그래프 가로 세로 크기\n",
    ")\n",
    "plot.show()"
   ]
  },
  {
   "cell_type": "code",
   "execution_count": 238,
   "id": "50bd3297-3eed-450c-8b48-cdb5b508a8a5",
   "metadata": {},
   "outputs": [],
   "source": [
    "csv_file = pd.read_csv('COVID-19-master/csse_covid_19_data/csse_covid_19_daily_reports/04-01-2020.csv', encoding='utf-8-sig')"
   ]
  },
  {
   "cell_type": "code",
   "execution_count": 138,
   "id": "996a741f-86ad-45d2-9860-a3dbc268bd9f",
   "metadata": {},
   "outputs": [
    {
     "data": {
      "text/plain": [
       "0    US\n",
       "1    US\n",
       "2    US\n",
       "3    US\n",
       "4    US\n",
       "5    US\n",
       "6    US\n",
       "7    US\n",
       "8    US\n",
       "9    US\n",
       "Name: Country_Region, dtype: object"
      ]
     },
     "execution_count": 138,
     "metadata": {},
     "output_type": "execute_result"
    }
   ],
   "source": [
    "country_series = csv_file['Country_Region']\n",
    "country_series.head(n=10)"
   ]
  },
  {
   "cell_type": "markdown",
   "id": "28b09212-92c9-45fc-a517-c8a4b30e5f67",
   "metadata": {},
   "source": [
    "<div class=\"alert alert-block\" style=\"border: 1px solid #000000FF;background-color:#B5BCFDFF;\">\n",
    "<font size=\"3em\" style=\"font-weight:bold;color:#000000FF;\">시리즈에 사용하는 메서드</font><br>\n",
    "\n",
    "---\n",
    "\n",
    "- ##### size : ***전체 row의 크기***\n",
    "- ##### count() : ***null값이 아니고 실제 채워져 있는 데이터의 수***\n",
    "- ##### value_counts() : ***컬럼 각 값이 차지하는 개수를 반환함***\n",
    "- ##### unique() : ***시리즈 안의 값들을 반환(중복 제거)***\n",
    "</div>"
   ]
  },
  {
   "cell_type": "code",
   "execution_count": 145,
   "id": "2a8238db-89b2-4ec0-b577-524cb62ddafe",
   "metadata": {},
   "outputs": [
    {
     "name": "stdout",
     "output_type": "stream",
     "text": [
      "2522 2522\n"
     ]
    }
   ],
   "source": [
    "print(country_series.size,country_series.count())"
   ]
  },
  {
   "cell_type": "code",
   "execution_count": 166,
   "id": "92ee12a2-c64f-4626-a159-bd5b10b19c45",
   "metadata": {},
   "outputs": [
    {
     "data": {
      "text/plain": [
       "Country_Region\n",
       "US                2228\n",
       "China               34\n",
       "United Kingdom      18\n",
       "Malaysia            17\n",
       "Canada              16\n",
       "                  ... \n",
       "Ghana                1\n",
       "Greece               1\n",
       "Grenada              1\n",
       "Guatemala            1\n",
       "Tuvalu               1\n",
       "Name: count, Length: 190, dtype: int64"
      ]
     },
     "execution_count": 166,
     "metadata": {},
     "output_type": "execute_result"
    }
   ],
   "source": [
    "country_series.value_counts()"
   ]
  },
  {
   "cell_type": "code",
   "execution_count": 194,
   "id": "c6c482bd-1ebe-4b30-9d90-5867c0d86cd9",
   "metadata": {},
   "outputs": [
    {
     "name": "stdout",
     "output_type": "stream",
     "text": [
      "['US' 'Canada' 'United Kingdom' 'China' 'Netherlands' 'Australia'\n",
      " 'Denmark' 'France' 'Afghanistan' 'Albania' 'Algeria' 'Andorra' 'Angola'\n",
      " 'Antigua and Barbuda' 'Argentina' 'Armenia' 'Austria' 'Azerbaijan'\n",
      " 'Bahamas' 'Bahrain' 'Bangladesh' 'Barbados' 'Belarus' 'Belgium' 'Belize'\n",
      " 'Benin' 'Bhutan' 'Bolivia' 'Bosnia and Herzegovina' 'Botswana' 'Brazil'\n",
      " 'Brunei' 'Bulgaria' 'Burkina Faso' 'Burma' 'Burundi' 'Cabo Verde'\n",
      " 'Cambodia' 'Cameroon' 'Central African Republic' 'Chad' 'Chile'\n",
      " 'Colombia' 'Congo (Brazzaville)' 'Congo (Kinshasa)' 'Costa Rica'\n",
      " \"Cote d'Ivoire\" 'Croatia' 'Cuba' 'Cyprus' 'Czechia' 'Diamond Princess'\n",
      " 'Djibouti' 'Dominica' 'Dominican Republic' 'Ecuador' 'Egypt'\n",
      " 'El Salvador' 'Equatorial Guinea' 'Eritrea' 'Estonia' 'Eswatini'\n",
      " 'Ethiopia' 'Fiji' 'Finland' 'Gabon' 'Gambia' 'Georgia' 'Germany' 'Ghana'\n",
      " 'Greece' 'Grenada' 'Guatemala' 'Guinea' 'Guinea-Bissau' 'Guyana' 'Haiti'\n",
      " 'Holy See' 'Honduras' 'Hungary' 'Iceland' 'India' 'Indonesia' 'Iran'\n",
      " 'Iraq' 'Ireland' 'Israel' 'Italy' 'Jamaica' 'Japan' 'Jordan' 'Kazakhstan'\n",
      " 'Kenya' 'Korea, South' 'Kosovo' 'Kuwait' 'Kyrgyzstan' 'Laos' 'Latvia'\n",
      " 'Lebanon' 'Liberia' 'Libya' 'Liechtenstein' 'Lithuania' 'Luxembourg'\n",
      " 'MS Zaandam' 'Madagascar' 'Maldives' 'Mali' 'Malta' 'Mauritania'\n",
      " 'Mauritius' 'Mexico' 'Moldova' 'Monaco' 'Mongolia' 'Montenegro' 'Morocco'\n",
      " 'Mozambique' 'Namibia' 'Nepal' 'New Zealand' 'Nicaragua' 'Niger'\n",
      " 'Nigeria' 'North Macedonia' 'Norway' 'Oman' 'Pakistan' 'Panama'\n",
      " 'Papua New Guinea' 'Paraguay' 'Peru' 'Philippines' 'Poland' 'Portugal'\n",
      " 'Qatar' 'Romania' 'Russia' 'Rwanda' 'Saint Kitts and Nevis' 'Saint Lucia'\n",
      " 'Saint Vincent and the Grenadines' 'Samoa' 'San Marino' 'Saudi Arabia'\n",
      " 'Senegal' 'Serbia' 'Seychelles' 'Sierra Leone' 'Singapore' 'Slovakia'\n",
      " 'Slovenia' 'Somalia' 'South Africa' 'Spain' 'Sri Lanka' 'Sudan'\n",
      " 'Suriname' 'Sweden' 'Switzerland' 'Syria' 'Taiwan*' 'Tanzania' 'Thailand'\n",
      " 'Timor-Leste' 'Togo' 'Trinidad and Tobago' 'Tunisia' 'Turkey' 'Uganda'\n",
      " 'Ukraine' 'United Arab Emirates' 'Uruguay' 'Uzbekistan' 'Venezuela'\n",
      " 'Vietnam' 'West Bank and Gaza' 'Zambia' 'Zimbabwe' 'Kiribati' 'Palau'\n",
      " 'Summer Olympics 2020' 'Malaysia' 'Tonga' 'Winter Olympics 2022'\n",
      " 'Antarctica' 'Korea, North' 'Nauru' 'Tuvalu'] 190\n"
     ]
    }
   ],
   "source": [
    "country_list = country_series.unique()\n",
    "\n",
    "print(country_list,len(country_list))"
   ]
  },
  {
   "cell_type": "markdown",
   "id": "8d1cb680-333c-4d9b-abc3-01ff1b96c6be",
   "metadata": {},
   "source": [
    "<div class=\"alert alert-block\" style=\"border: 1px solid #000000FF;background-color:#B5BCFDFF;\">\n",
    "<font size=\"3em\" style=\"font-weight:bold;color:#000000FF;\">- 필요한 컬럼만 선택해 데이터 프레임 만들기</font><br>\n",
    "<font size=\"3em\" style=\"font-weight:bold;color:#000000FF;\">- 원하는 row만 뽑아내기</font><br>\n",
    "---\n",
    "\n",
    "`csv_file[['컬럼이름1','컬럼이름2']]`\n",
    "\n",
    "`csv_file[csv_file['컬럼이름1']=='값']]`\n",
    "</div>"
   ]
  },
  {
   "cell_type": "code",
   "execution_count": 262,
   "id": "ecd80f51-86ad-4379-a678-2ce578ab9fbb",
   "metadata": {
    "scrolled": true
   },
   "outputs": [
    {
     "name": "stdout",
     "output_type": "stream",
     "text": [
      "<class 'pandas.core.series.Series'>\n"
     ]
    },
    {
     "data": {
      "text/html": [
       "<div>\n",
       "<style scoped>\n",
       "    .dataframe tbody tr th:only-of-type {\n",
       "        vertical-align: middle;\n",
       "    }\n",
       "\n",
       "    .dataframe tbody tr th {\n",
       "        vertical-align: top;\n",
       "    }\n",
       "\n",
       "    .dataframe thead th {\n",
       "        text-align: right;\n",
       "    }\n",
       "</style>\n",
       "<table border=\"1\" class=\"dataframe\">\n",
       "  <thead>\n",
       "    <tr style=\"text-align: right;\">\n",
       "      <th></th>\n",
       "      <th>FIPS</th>\n",
       "      <th>Admin2</th>\n",
       "      <th>Province_State</th>\n",
       "      <th>Country_Region</th>\n",
       "      <th>Last_Update</th>\n",
       "      <th>Lat</th>\n",
       "      <th>Long_</th>\n",
       "      <th>Confirmed</th>\n",
       "      <th>Deaths</th>\n",
       "      <th>Recovered</th>\n",
       "      <th>Active</th>\n",
       "      <th>Combined_Key</th>\n",
       "    </tr>\n",
       "  </thead>\n",
       "  <tbody>\n",
       "    <tr>\n",
       "      <th>0</th>\n",
       "      <td>45001.0</td>\n",
       "      <td>Abbeville</td>\n",
       "      <td>South Carolina</td>\n",
       "      <td>US</td>\n",
       "      <td>2020-04-01 21:58:49</td>\n",
       "      <td>34.223334</td>\n",
       "      <td>-82.461707</td>\n",
       "      <td>4</td>\n",
       "      <td>0</td>\n",
       "      <td>0</td>\n",
       "      <td>4</td>\n",
       "      <td>Abbeville, South Carolina, US</td>\n",
       "    </tr>\n",
       "    <tr>\n",
       "      <th>1</th>\n",
       "      <td>22001.0</td>\n",
       "      <td>Acadia</td>\n",
       "      <td>Louisiana</td>\n",
       "      <td>US</td>\n",
       "      <td>2020-04-01 21:58:49</td>\n",
       "      <td>30.295065</td>\n",
       "      <td>-92.414197</td>\n",
       "      <td>47</td>\n",
       "      <td>1</td>\n",
       "      <td>0</td>\n",
       "      <td>46</td>\n",
       "      <td>Acadia, Louisiana, US</td>\n",
       "    </tr>\n",
       "    <tr>\n",
       "      <th>2</th>\n",
       "      <td>51001.0</td>\n",
       "      <td>Accomack</td>\n",
       "      <td>Virginia</td>\n",
       "      <td>US</td>\n",
       "      <td>2020-04-01 21:58:49</td>\n",
       "      <td>37.767072</td>\n",
       "      <td>-75.632346</td>\n",
       "      <td>7</td>\n",
       "      <td>0</td>\n",
       "      <td>0</td>\n",
       "      <td>7</td>\n",
       "      <td>Accomack, Virginia, US</td>\n",
       "    </tr>\n",
       "    <tr>\n",
       "      <th>3</th>\n",
       "      <td>16001.0</td>\n",
       "      <td>Ada</td>\n",
       "      <td>Idaho</td>\n",
       "      <td>US</td>\n",
       "      <td>2020-04-01 21:58:49</td>\n",
       "      <td>43.452658</td>\n",
       "      <td>-116.241552</td>\n",
       "      <td>195</td>\n",
       "      <td>3</td>\n",
       "      <td>0</td>\n",
       "      <td>192</td>\n",
       "      <td>Ada, Idaho, US</td>\n",
       "    </tr>\n",
       "    <tr>\n",
       "      <th>4</th>\n",
       "      <td>19001.0</td>\n",
       "      <td>Adair</td>\n",
       "      <td>Iowa</td>\n",
       "      <td>US</td>\n",
       "      <td>2020-04-01 21:58:49</td>\n",
       "      <td>41.330756</td>\n",
       "      <td>-94.471059</td>\n",
       "      <td>1</td>\n",
       "      <td>0</td>\n",
       "      <td>0</td>\n",
       "      <td>1</td>\n",
       "      <td>Adair, Iowa, US</td>\n",
       "    </tr>\n",
       "  </tbody>\n",
       "</table>\n",
       "</div>"
      ],
      "text/plain": [
       "      FIPS     Admin2  Province_State Country_Region          Last_Update  \\\n",
       "0  45001.0  Abbeville  South Carolina             US  2020-04-01 21:58:49   \n",
       "1  22001.0     Acadia       Louisiana             US  2020-04-01 21:58:49   \n",
       "2  51001.0   Accomack        Virginia             US  2020-04-01 21:58:49   \n",
       "3  16001.0        Ada           Idaho             US  2020-04-01 21:58:49   \n",
       "4  19001.0      Adair            Iowa             US  2020-04-01 21:58:49   \n",
       "\n",
       "         Lat       Long_  Confirmed  Deaths  Recovered  Active  \\\n",
       "0  34.223334  -82.461707          4       0          0       4   \n",
       "1  30.295065  -92.414197         47       1          0      46   \n",
       "2  37.767072  -75.632346          7       0          0       7   \n",
       "3  43.452658 -116.241552        195       3          0     192   \n",
       "4  41.330756  -94.471059          1       0          0       1   \n",
       "\n",
       "                    Combined_Key  \n",
       "0  Abbeville, South Carolina, US  \n",
       "1          Acadia, Louisiana, US  \n",
       "2         Accomack, Virginia, US  \n",
       "3                 Ada, Idaho, US  \n",
       "4                Adair, Iowa, US  "
      ]
     },
     "execution_count": 262,
     "metadata": {},
     "output_type": "execute_result"
    }
   ],
   "source": [
    "covid_stat = csv_file[['Confirmed','Deaths','Recovered']]\n",
    "covid_stat.head()\n",
    "\n",
    "# csv_file[csv_file['Country_Region']=='US']\n",
    "\n",
    "# csv_file['Country_Region']=='US'의 결과는 불리안 정보가 담긴 시리즈\n",
    "print(type(csv_file['Country_Region']=='US'))\n",
    "\n",
    "# 이 결과를 다시 csv_file[]안에 넣으면 true인 값에 대응하는 데이터들을 추출해서 새로운 시리즈를 반환함\n",
    "a = csv_file[csv_file['Country_Region']=='US']\n",
    "a.head()"
   ]
  },
  {
   "cell_type": "code",
   "execution_count": 248,
   "id": "5166c73d-91d0-4a51-a0ef-47c19634a469",
   "metadata": {},
   "outputs": [
    {
     "name": "stdout",
     "output_type": "stream",
     "text": [
      "증명\n"
     ]
    },
    {
     "data": {
      "text/plain": [
       "array(['US'], dtype=object)"
      ]
     },
     "execution_count": 248,
     "metadata": {},
     "output_type": "execute_result"
    }
   ],
   "source": [
    "#증명 \n",
    "print('증명')\n",
    "country_series_file = a['Country_Region']\n",
    "country_series_file.unique()"
   ]
  },
  {
   "cell_type": "markdown",
   "id": "932f1d1c-eb9b-45f8-9c6f-4dd61f7219bd",
   "metadata": {},
   "source": [
    "<div class=\"alert alert-block\" style=\"border: 1px solid #000000FF;background-color:#B5BCFDFF;\">\n",
    "<font size=\"3em\" style=\"font-weight:bold;color:#000000FF;\">- 컬럼별로 null 개수 세어서 보여주기</font>\n",
    "    \n",
    "---\n",
    "\n",
    "`csv_file.isnull().sum()`\n",
    "\n",
    "</div>"
   ]
  },
  {
   "cell_type": "code",
   "execution_count": 274,
   "id": "8c440e68-91a7-4250-9dc1-5128de109617",
   "metadata": {},
   "outputs": [
    {
     "data": {
      "text/plain": [
       "FIPS              347\n",
       "Admin2            301\n",
       "Province_State    184\n",
       "Country_Region      0\n",
       "Last_Update         0\n",
       "Lat                 4\n",
       "Long_               4\n",
       "Confirmed           0\n",
       "Deaths              0\n",
       "Recovered           0\n",
       "Active              0\n",
       "Combined_Key        0\n",
       "dtype: int64"
      ]
     },
     "execution_count": 274,
     "metadata": {},
     "output_type": "execute_result"
    }
   ],
   "source": [
    "csv_file.isnull().sum()"
   ]
  },
  {
   "cell_type": "markdown",
   "id": "3a0e8ad7-dcdf-4456-89f6-95589eacb773",
   "metadata": {},
   "source": [
    "<div class=\"alert alert-block\" style=\"border: 1px solid #000000FF;background-color:#B5BCFDFF;\">\n",
    "<font size=\"3em\" style=\"font-weight:bold;color:#000000FF;\">결측치 제거하는 방법</font><br>\n",
    "    \n",
    "----\n",
    "\n",
    "`csv_file.dropna()`\n",
    "\n",
    "</div>"
   ]
  },
  {
   "cell_type": "code",
   "execution_count": 280,
   "id": "6e2e2536-0250-4032-95bd-e3c2af280543",
   "metadata": {},
   "outputs": [
    {
     "data": {
      "text/plain": [
       "FIPS              0\n",
       "Admin2            0\n",
       "Province_State    0\n",
       "Country_Region    0\n",
       "Last_Update       0\n",
       "Lat               0\n",
       "Long_             0\n",
       "Confirmed         0\n",
       "Deaths            0\n",
       "Recovered         0\n",
       "Active            0\n",
       "Combined_Key      0\n",
       "dtype: int64"
      ]
     },
     "execution_count": 280,
     "metadata": {},
     "output_type": "execute_result"
    }
   ],
   "source": [
    "csv_drop_file = csv_file.dropna()\n",
    "csv_drop_file.isnull().sum()"
   ]
  },
  {
   "cell_type": "code",
   "execution_count": 282,
   "id": "f979b9d8-7e06-46a6-8867-6c3bb827b8a4",
   "metadata": {
    "scrolled": true
   },
   "outputs": [
    {
     "name": "stdout",
     "output_type": "stream",
     "text": [
      "<class 'pandas.core.frame.DataFrame'>\n",
      "Index: 2168 entries, 0 to 2220\n",
      "Data columns (total 12 columns):\n",
      " #   Column          Non-Null Count  Dtype  \n",
      "---  ------          --------------  -----  \n",
      " 0   FIPS            2168 non-null   float64\n",
      " 1   Admin2          2168 non-null   object \n",
      " 2   Province_State  2168 non-null   object \n",
      " 3   Country_Region  2168 non-null   object \n",
      " 4   Last_Update     2168 non-null   object \n",
      " 5   Lat             2168 non-null   float64\n",
      " 6   Long_           2168 non-null   float64\n",
      " 7   Confirmed       2168 non-null   int64  \n",
      " 8   Deaths          2168 non-null   int64  \n",
      " 9   Recovered       2168 non-null   int64  \n",
      " 10  Active          2168 non-null   int64  \n",
      " 11  Combined_Key    2168 non-null   object \n",
      "dtypes: float64(3), int64(4), object(5)\n",
      "memory usage: 220.2+ KB\n"
     ]
    }
   ],
   "source": [
    "#확인하면 모든 결측치를 다 제거해서 컬럼 값 모두 꽉차있음을 볼 수 있다. \n",
    "csv_drop_file.info()"
   ]
  },
  {
   "cell_type": "markdown",
   "id": "6fdea812-bcc9-494f-af9b-8ab9d2b18db7",
   "metadata": {},
   "source": [
    "<div class=\"alert alert-block\" style=\"border: 1px solid #000000FF;background-color:#B5BCFDFF;\">\n",
    "<font size=\"3em\" style=\"font-weight:bold;color:#000000FF;\">특정 컬럼 결측치 부분 row만 제거하기</font><br>\n",
    "    \n",
    "----\n",
    "\n",
    "`csv_file.dropna(subset=['Confirmed'])`\n",
    "\n",
    "</div>"
   ]
  },
  {
   "cell_type": "code",
   "execution_count": 295,
   "id": "1a515cd8-d676-4aee-a772-717e41f06f92",
   "metadata": {},
   "outputs": [
    {
     "name": "stdout",
     "output_type": "stream",
     "text": [
      "<class 'pandas.core.frame.DataFrame'>\n",
      "RangeIndex: 76 entries, 0 to 75\n",
      "Data columns (total 6 columns):\n",
      " #   Column          Non-Null Count  Dtype  \n",
      "---  ------          --------------  -----  \n",
      " 0   Province/State  64 non-null     object \n",
      " 1   Country/Region  76 non-null     object \n",
      " 2   Last Update     76 non-null     object \n",
      " 3   Confirmed       66 non-null     float64\n",
      " 4   Deaths          39 non-null     float64\n",
      " 5   Recovered       39 non-null     float64\n",
      "dtypes: float64(3), object(3)\n",
      "memory usage: 3.7+ KB\n",
      "None\n",
      "<class 'pandas.core.frame.DataFrame'>\n",
      "Index: 66 entries, 0 to 75\n",
      "Data columns (total 6 columns):\n",
      " #   Column          Non-Null Count  Dtype  \n",
      "---  ------          --------------  -----  \n",
      " 0   Province/State  54 non-null     object \n",
      " 1   Country/Region  66 non-null     object \n",
      " 2   Last Update     66 non-null     object \n",
      " 3   Confirmed       66 non-null     float64\n",
      " 4   Deaths          39 non-null     float64\n",
      " 5   Recovered       39 non-null     float64\n",
      "dtypes: float64(3), object(3)\n",
      "memory usage: 3.6+ KB\n",
      "None\n"
     ]
    }
   ],
   "source": [
    "import pandas as pd\n",
    "\n",
    "csv_covid = pd.read_csv('COVID-19-master/csse_covid_19_data/csse_covid_19_daily_reports/01-22-2020.csv',encoding='utf-8-sig')\n",
    "\n",
    "print(csv_covid.info())\n",
    "\n",
    "drop_csv = csv_covid.dropna(subset=['Confirmed'])\n",
    "\n",
    "print(drop_csv.info())\n"
   ]
  },
  {
   "cell_type": "markdown",
   "id": "1a522e4f-a7a0-460e-9b9a-5fd5b3217d4f",
   "metadata": {},
   "source": [
    "<div class=\"alert alert-block\" style=\"border: 1px solid #000000FF;background-color:#B5BCFDFF;\">\n",
    "<font size=\"3em\" style=\"font-weight:bold;color:#000000FF;\">데이터프레임 안의 결측치를 특정 값으로 채우기</font><br>\n",
    "    \n",
    "----\n",
    "\n",
    "`csv_file.fillna(값)`\n",
    "\n",
    "#### 또는\n",
    "\n",
    "`dic = {'Death':0, 'Recovered':0}`\n",
    "\n",
    "`csv_file.fillna(dic)`\n",
    "</div>"
   ]
  },
  {
   "cell_type": "code",
   "execution_count": 308,
   "id": "7fa2df69-a3bc-4d40-8b6f-a4cdbcdc0ba9",
   "metadata": {},
   "outputs": [
    {
     "name": "stdout",
     "output_type": "stream",
     "text": [
      "      Province/State  Country/Region      Last Update  Confirmed  Deaths  \\\n",
      "0              Anhui  Mainland China  1/22/2020 17:00        1.0     NaN   \n",
      "1            Beijing  Mainland China  1/22/2020 17:00       14.0     NaN   \n",
      "2          Chongqing  Mainland China  1/22/2020 17:00        6.0     NaN   \n",
      "3             Fujian  Mainland China  1/22/2020 17:00        1.0     NaN   \n",
      "4              Gansu  Mainland China  1/22/2020 17:00        NaN     NaN   \n",
      "..               ...             ...              ...        ...     ...   \n",
      "71           Unknown  United Kingdom  1/22/2020 17:00        0.0     0.0   \n",
      "72               NaN           Nauru  1/22/2020 17:00        0.0     0.0   \n",
      "73              Niue     New Zealand  1/22/2020 17:00        0.0     0.0   \n",
      "74               NaN          Tuvalu  1/22/2020 17:00        0.0     0.0   \n",
      "75  Pitcairn Islands  United Kingdom  1/22/2020 17:00        0.0     0.0   \n",
      "\n",
      "    Recovered  \n",
      "0         NaN  \n",
      "1         NaN  \n",
      "2         NaN  \n",
      "3         NaN  \n",
      "4         NaN  \n",
      "..        ...  \n",
      "71        0.0  \n",
      "72        0.0  \n",
      "73        0.0  \n",
      "74        0.0  \n",
      "75        0.0  \n",
      "\n",
      "[76 rows x 6 columns]\n",
      "\n",
      "\n",
      "      Province/State  Country/Region      Last Update  Confirmed  Deaths  \\\n",
      "0              Anhui  Mainland China  1/22/2020 17:00        1.0     0.0   \n",
      "1            Beijing  Mainland China  1/22/2020 17:00       14.0     0.0   \n",
      "2          Chongqing  Mainland China  1/22/2020 17:00        6.0     0.0   \n",
      "3             Fujian  Mainland China  1/22/2020 17:00        1.0     0.0   \n",
      "4              Gansu  Mainland China  1/22/2020 17:00        0.0     0.0   \n",
      "..               ...             ...              ...        ...     ...   \n",
      "71           Unknown  United Kingdom  1/22/2020 17:00        0.0     0.0   \n",
      "72               NaN           Nauru  1/22/2020 17:00        0.0     0.0   \n",
      "73              Niue     New Zealand  1/22/2020 17:00        0.0     0.0   \n",
      "74               NaN          Tuvalu  1/22/2020 17:00        0.0     0.0   \n",
      "75  Pitcairn Islands  United Kingdom  1/22/2020 17:00        0.0     0.0   \n",
      "\n",
      "    Recovered  \n",
      "0         NaN  \n",
      "1         NaN  \n",
      "2         NaN  \n",
      "3         NaN  \n",
      "4         NaN  \n",
      "..        ...  \n",
      "71        0.0  \n",
      "72        0.0  \n",
      "73        0.0  \n",
      "74        0.0  \n",
      "75        0.0  \n",
      "\n",
      "[76 rows x 6 columns]\n"
     ]
    }
   ],
   "source": [
    "\n",
    "print(csv_covid)\n",
    "dic = {'Deaths':0,'Confirmed':0}\n",
    "csv_new_covid_file = csv_covid.fillna(dic)\n",
    "\n",
    "print('\\n')\n",
    "print(csv_new_covid_file)"
   ]
  },
  {
   "cell_type": "markdown",
   "id": "80cd6a1a-a29c-4fb3-8241-65c7e4aa8090",
   "metadata": {},
   "source": [
    "<div class=\"alert alert-block\" style=\"border: 1px solid #000000FF;background-color:#B5BCFDFF;\">\n",
    "<font size=\"3em\" style=\"font-weight:bold;color:#000000FF;\">특정 컬럼의 유일 값을 인덱스로 하여 재구성하기</font>\n",
    "    \n",
    "----\n",
    "\n",
    "`csv_file.groupby('특정컬럼').sum()`\n",
    "\n",
    "</div>"
   ]
  },
  {
   "cell_type": "code",
   "execution_count": 325,
   "id": "1291f0eb-0f6b-4627-b581-40d2a52cf54b",
   "metadata": {},
   "outputs": [
    {
     "data": {
      "text/html": [
       "<div>\n",
       "<style scoped>\n",
       "    .dataframe tbody tr th:only-of-type {\n",
       "        vertical-align: middle;\n",
       "    }\n",
       "\n",
       "    .dataframe tbody tr th {\n",
       "        vertical-align: top;\n",
       "    }\n",
       "\n",
       "    .dataframe thead th {\n",
       "        text-align: right;\n",
       "    }\n",
       "</style>\n",
       "<table border=\"1\" class=\"dataframe\">\n",
       "  <thead>\n",
       "    <tr style=\"text-align: right;\">\n",
       "      <th></th>\n",
       "      <th>Province/State</th>\n",
       "      <th>Last Update</th>\n",
       "      <th>Confirmed</th>\n",
       "      <th>Deaths</th>\n",
       "      <th>Recovered</th>\n",
       "    </tr>\n",
       "    <tr>\n",
       "      <th>Country/Region</th>\n",
       "      <th></th>\n",
       "      <th></th>\n",
       "      <th></th>\n",
       "      <th></th>\n",
       "      <th></th>\n",
       "    </tr>\n",
       "  </thead>\n",
       "  <tbody>\n",
       "    <tr>\n",
       "      <th>Antarctica</th>\n",
       "      <td>0</td>\n",
       "      <td>1/22/2020 17:00</td>\n",
       "      <td>0.0</td>\n",
       "      <td>0.0</td>\n",
       "      <td>0.0</td>\n",
       "    </tr>\n",
       "    <tr>\n",
       "      <th>China</th>\n",
       "      <td>Unknown</td>\n",
       "      <td>1/22/2020 17:00</td>\n",
       "      <td>0.0</td>\n",
       "      <td>0.0</td>\n",
       "      <td>0.0</td>\n",
       "    </tr>\n",
       "    <tr>\n",
       "      <th>Hong Kong</th>\n",
       "      <td>Hong Kong</td>\n",
       "      <td>1/22/2020 17:00</td>\n",
       "      <td>0.0</td>\n",
       "      <td>0.0</td>\n",
       "      <td>0.0</td>\n",
       "    </tr>\n",
       "    <tr>\n",
       "      <th>Japan</th>\n",
       "      <td>0</td>\n",
       "      <td>1/22/2020 17:00</td>\n",
       "      <td>2.0</td>\n",
       "      <td>0.0</td>\n",
       "      <td>0.0</td>\n",
       "    </tr>\n",
       "    <tr>\n",
       "      <th>Kiribati</th>\n",
       "      <td>0</td>\n",
       "      <td>1/22/2020 17:00</td>\n",
       "      <td>0.0</td>\n",
       "      <td>0.0</td>\n",
       "      <td>0.0</td>\n",
       "    </tr>\n",
       "    <tr>\n",
       "      <th>Korea, North</th>\n",
       "      <td>0</td>\n",
       "      <td>1/22/2020 17:00</td>\n",
       "      <td>0.0</td>\n",
       "      <td>0.0</td>\n",
       "      <td>0.0</td>\n",
       "    </tr>\n",
       "    <tr>\n",
       "      <th>Macau</th>\n",
       "      <td>Macau</td>\n",
       "      <td>1/22/2020 17:00</td>\n",
       "      <td>1.0</td>\n",
       "      <td>0.0</td>\n",
       "      <td>0.0</td>\n",
       "    </tr>\n",
       "    <tr>\n",
       "      <th>Mainland China</th>\n",
       "      <td>AnhuiBeijingChongqingFujianGansuGuangdongGuang...</td>\n",
       "      <td>1/22/2020 17:001/22/2020 17:001/22/2020 17:001...</td>\n",
       "      <td>547.0</td>\n",
       "      <td>17.0</td>\n",
       "      <td>28.0</td>\n",
       "    </tr>\n",
       "    <tr>\n",
       "      <th>Malaysia</th>\n",
       "      <td>JohorKedahKelantanMelakaNegeri SembilanPahangP...</td>\n",
       "      <td>1/22/2020 17:001/22/2020 17:001/22/2020 17:001...</td>\n",
       "      <td>0.0</td>\n",
       "      <td>0.0</td>\n",
       "      <td>0.0</td>\n",
       "    </tr>\n",
       "    <tr>\n",
       "      <th>Nauru</th>\n",
       "      <td>0</td>\n",
       "      <td>1/22/2020 17:00</td>\n",
       "      <td>0.0</td>\n",
       "      <td>0.0</td>\n",
       "      <td>0.0</td>\n",
       "    </tr>\n",
       "  </tbody>\n",
       "</table>\n",
       "</div>"
      ],
      "text/plain": [
       "                                                   Province/State  \\\n",
       "Country/Region                                                      \n",
       "Antarctica                                                      0   \n",
       "China                                                     Unknown   \n",
       "Hong Kong                                               Hong Kong   \n",
       "Japan                                                           0   \n",
       "Kiribati                                                        0   \n",
       "Korea, North                                                    0   \n",
       "Macau                                                       Macau   \n",
       "Mainland China  AnhuiBeijingChongqingFujianGansuGuangdongGuang...   \n",
       "Malaysia        JohorKedahKelantanMelakaNegeri SembilanPahangP...   \n",
       "Nauru                                                           0   \n",
       "\n",
       "                                                      Last Update  Confirmed  \\\n",
       "Country/Region                                                                 \n",
       "Antarctica                                        1/22/2020 17:00        0.0   \n",
       "China                                             1/22/2020 17:00        0.0   \n",
       "Hong Kong                                         1/22/2020 17:00        0.0   \n",
       "Japan                                             1/22/2020 17:00        2.0   \n",
       "Kiribati                                          1/22/2020 17:00        0.0   \n",
       "Korea, North                                      1/22/2020 17:00        0.0   \n",
       "Macau                                             1/22/2020 17:00        1.0   \n",
       "Mainland China  1/22/2020 17:001/22/2020 17:001/22/2020 17:001...      547.0   \n",
       "Malaysia        1/22/2020 17:001/22/2020 17:001/22/2020 17:001...        0.0   \n",
       "Nauru                                             1/22/2020 17:00        0.0   \n",
       "\n",
       "                Deaths  Recovered  \n",
       "Country/Region                     \n",
       "Antarctica         0.0        0.0  \n",
       "China              0.0        0.0  \n",
       "Hong Kong          0.0        0.0  \n",
       "Japan              0.0        0.0  \n",
       "Kiribati           0.0        0.0  \n",
       "Korea, North       0.0        0.0  \n",
       "Macau              0.0        0.0  \n",
       "Mainland China    17.0       28.0  \n",
       "Malaysia           0.0        0.0  \n",
       "Nauru              0.0        0.0  "
      ]
     },
     "execution_count": 325,
     "metadata": {},
     "output_type": "execute_result"
    }
   ],
   "source": [
    "new_doc = csv_covid.groupby('Country/Region').sum()\n",
    "new_doc.head(n=10)\n",
    "\n"
   ]
  },
  {
   "cell_type": "code",
   "execution_count": 333,
   "id": "4086af3e-6fb1-470d-b1a8-2bb8faa46998",
   "metadata": {},
   "outputs": [
    {
     "data": {
      "text/html": [
       "<div>\n",
       "<style scoped>\n",
       "    .dataframe tbody tr th:only-of-type {\n",
       "        vertical-align: middle;\n",
       "    }\n",
       "\n",
       "    .dataframe tbody tr th {\n",
       "        vertical-align: top;\n",
       "    }\n",
       "\n",
       "    .dataframe thead th {\n",
       "        text-align: right;\n",
       "    }\n",
       "</style>\n",
       "<table border=\"1\" class=\"dataframe\">\n",
       "  <thead>\n",
       "    <tr style=\"text-align: right;\">\n",
       "      <th></th>\n",
       "      <th>Province/State</th>\n",
       "      <th>Last Update</th>\n",
       "      <th>Confirmed</th>\n",
       "      <th>Deaths</th>\n",
       "      <th>Recovered</th>\n",
       "    </tr>\n",
       "    <tr>\n",
       "      <th>Country/Region</th>\n",
       "      <th></th>\n",
       "      <th></th>\n",
       "      <th></th>\n",
       "      <th></th>\n",
       "      <th></th>\n",
       "    </tr>\n",
       "  </thead>\n",
       "  <tbody>\n",
       "    <tr>\n",
       "      <th>China</th>\n",
       "      <td>Unknown</td>\n",
       "      <td>1/22/2020 17:00</td>\n",
       "      <td>0.0</td>\n",
       "      <td>0.0</td>\n",
       "      <td>0.0</td>\n",
       "    </tr>\n",
       "  </tbody>\n",
       "</table>\n",
       "</div>"
      ],
      "text/plain": [
       "               Province/State      Last Update  Confirmed  Deaths  Recovered\n",
       "Country/Region                                                              \n",
       "China                 Unknown  1/22/2020 17:00        0.0     0.0        0.0"
      ]
     },
     "execution_count": 333,
     "metadata": {},
     "output_type": "execute_result"
    }
   ],
   "source": [
    "#인덱스로 row 추출 가능\n",
    "new_doc.loc['China']\n",
    "\n",
    "#또는\n",
    "new_doc[new_doc.index=='China']"
   ]
  },
  {
   "cell_type": "markdown",
   "id": "9a7a7b6f-204a-4276-91ac-8674630d8610",
   "metadata": {},
   "source": [
    "<div class=\"alert alert-block\" style=\"border: 1px solid #000000FF;background-color:#B5BCFDFF;\">\n",
    "<font size=\"3em\" style=\"font-weight:bold;color:#000000FF;\">컬럼의 타입을 변경하기</font>\n",
    "    \n",
    "----\n",
    "\n",
    "`csv_file.astype({'타입을 바꿀 컬럼':'바꿀 타입'})`\n",
    "\n",
    "</div>"
   ]
  },
  {
   "cell_type": "code",
   "execution_count": 337,
   "id": "846481ab-0275-4e63-94c7-841bab307894",
   "metadata": {},
   "outputs": [
    {
     "name": "stdout",
     "output_type": "stream",
     "text": [
      "<class 'pandas.core.frame.DataFrame'>\n",
      "RangeIndex: 2522 entries, 0 to 2521\n",
      "Data columns (total 12 columns):\n",
      " #   Column          Non-Null Count  Dtype  \n",
      "---  ------          --------------  -----  \n",
      " 0   FIPS            2175 non-null   float64\n",
      " 1   Admin2          2221 non-null   object \n",
      " 2   Province_State  2338 non-null   object \n",
      " 3   Country_Region  2522 non-null   object \n",
      " 4   Last_Update     2522 non-null   object \n",
      " 5   Lat             2518 non-null   float64\n",
      " 6   Long_           2518 non-null   float64\n",
      " 7   Confirmed       2522 non-null   int64  \n",
      " 8   Deaths          2522 non-null   int64  \n",
      " 9   Recovered       2522 non-null   int64  \n",
      " 10  Active          2522 non-null   int64  \n",
      " 11  Combined_Key    2522 non-null   object \n",
      "dtypes: float64(3), int64(4), object(5)\n",
      "memory usage: 236.6+ KB\n",
      "None\n"
     ]
    }
   ],
   "source": [
    "covid_csv_file.astype({'Confirmed':'int64'})\n",
    "print(covid_csv_file.info())"
   ]
  },
  {
   "cell_type": "code",
   "execution_count": null,
   "id": "0e148687-3dff-4263-b6e3-c875960189e8",
   "metadata": {},
   "outputs": [],
   "source": []
  },
  {
   "cell_type": "markdown",
   "id": "a637ab45-4a77-4c7e-a6b3-0050319ab737",
   "metadata": {},
   "source": [
    "<div class=\"alert alert-block\" style=\"border: 1px solid #000000FF;background-color:#B5BCFDFF;\">\n",
    "<font size=\"3em\" style=\"font-weight:bold;color:#000000FF;\">컬럼명 변경하기</font>\n",
    "    \n",
    "----\n",
    "\n",
    "`new_csv = csv_data[['column1','column2']]`\n",
    "\n",
    "`new_csv.columns = ['바꾸고 싶은 이름1','바꾸고 싶은 이름2']`\n",
    "\n",
    "</div>"
   ]
  },
  {
   "cell_type": "code",
   "execution_count": 347,
   "id": "0f8ac92d-b206-49b9-bf35-47e6387a4d2f",
   "metadata": {},
   "outputs": [
    {
     "name": "stdout",
     "output_type": "stream",
     "text": [
      "<class 'pandas.core.frame.DataFrame'>\n",
      "RangeIndex: 2522 entries, 0 to 2521\n",
      "Data columns (total 2 columns):\n",
      " #   Column   Non-Null Count  Dtype  \n",
      "---  ------   --------------  -----  \n",
      " 0   random1  2175 non-null   float64\n",
      " 1   random2  2221 non-null   object \n",
      "dtypes: float64(1), object(1)\n",
      "memory usage: 39.5+ KB\n"
     ]
    }
   ],
   "source": [
    "new_csv_one = covid_csv_file[['FIPS','Admin2']]\n",
    "new_csv_one.columns = ['random1','random2']\n",
    "\n",
    "new_csv_one.info()"
   ]
  },
  {
   "cell_type": "markdown",
   "id": "2b27eb91-cbbb-4e45-9525-55828c1c1451",
   "metadata": {},
   "source": [
    "<div class=\"alert alert-block\" style=\"border: 1px solid #000000FF;background-color:#B5BCFDFF;\">\n",
    "<font size=\"3em\" style=\"font-weight:bold;color:#000000FF;\">중복행 찾아내고 중복행 삭제하기</font>\n",
    "    \n",
    "----\n",
    "- #### 중복 행 확인하기\n",
    "  - `csv_data.duplicated()`\n",
    "\n",
    "- #### 중복 행 직접 테이블 형식으로 출력해 보기\n",
    "  - `csv_data[csv_data.duplicated()]`\n",
    "\n",
    "- #### 중복 행 삭제하기\n",
    "  - `csv_data.drop_duplicates(subset='row가 중복되면 삭제할 컬럼 이름',keep='중복되는 처음행 남길지 아님 마지막 남길지')`\n",
    "\n",
    "\n",
    "</div>"
   ]
  },
  {
   "cell_type": "code",
   "execution_count": 356,
   "id": "990f90c6-541b-4b17-b02b-da31e50f065e",
   "metadata": {},
   "outputs": [
    {
     "data": {
      "text/html": [
       "<div>\n",
       "<style scoped>\n",
       "    .dataframe tbody tr th:only-of-type {\n",
       "        vertical-align: middle;\n",
       "    }\n",
       "\n",
       "    .dataframe tbody tr th {\n",
       "        vertical-align: top;\n",
       "    }\n",
       "\n",
       "    .dataframe thead th {\n",
       "        text-align: right;\n",
       "    }\n",
       "</style>\n",
       "<table border=\"1\" class=\"dataframe\">\n",
       "  <thead>\n",
       "    <tr style=\"text-align: right;\">\n",
       "      <th></th>\n",
       "      <th>iso2</th>\n",
       "      <th>Country_Region</th>\n",
       "    </tr>\n",
       "  </thead>\n",
       "  <tbody>\n",
       "    <tr>\n",
       "      <th>0</th>\n",
       "      <td>BW</td>\n",
       "      <td>Botswana</td>\n",
       "    </tr>\n",
       "    <tr>\n",
       "      <th>1</th>\n",
       "      <td>BI</td>\n",
       "      <td>Burundi</td>\n",
       "    </tr>\n",
       "    <tr>\n",
       "      <th>2</th>\n",
       "      <td>SL</td>\n",
       "      <td>Sierra Leone</td>\n",
       "    </tr>\n",
       "    <tr>\n",
       "      <th>3</th>\n",
       "      <td>AF</td>\n",
       "      <td>Afghanistan</td>\n",
       "    </tr>\n",
       "    <tr>\n",
       "      <th>4</th>\n",
       "      <td>AL</td>\n",
       "      <td>Albania</td>\n",
       "    </tr>\n",
       "    <tr>\n",
       "      <th>...</th>\n",
       "      <td>...</td>\n",
       "      <td>...</td>\n",
       "    </tr>\n",
       "    <tr>\n",
       "      <th>3555</th>\n",
       "      <td>US</td>\n",
       "      <td>US</td>\n",
       "    </tr>\n",
       "    <tr>\n",
       "      <th>3556</th>\n",
       "      <td>US</td>\n",
       "      <td>US</td>\n",
       "    </tr>\n",
       "    <tr>\n",
       "      <th>3557</th>\n",
       "      <td>US</td>\n",
       "      <td>US</td>\n",
       "    </tr>\n",
       "    <tr>\n",
       "      <th>3558</th>\n",
       "      <td>US</td>\n",
       "      <td>US</td>\n",
       "    </tr>\n",
       "    <tr>\n",
       "      <th>3559</th>\n",
       "      <td>US</td>\n",
       "      <td>US</td>\n",
       "    </tr>\n",
       "  </tbody>\n",
       "</table>\n",
       "<p>3560 rows × 2 columns</p>\n",
       "</div>"
      ],
      "text/plain": [
       "     iso2 Country_Region\n",
       "0      BW       Botswana\n",
       "1      BI        Burundi\n",
       "2      SL   Sierra Leone\n",
       "3      AF    Afghanistan\n",
       "4      AL        Albania\n",
       "...   ...            ...\n",
       "3555   US             US\n",
       "3556   US             US\n",
       "3557   US             US\n",
       "3558   US             US\n",
       "3559   US             US\n",
       "\n",
       "[3560 rows x 2 columns]"
      ]
     },
     "execution_count": 356,
     "metadata": {},
     "output_type": "execute_result"
    }
   ],
   "source": [
    "doc = pd.read_csv(\"COVID-19-master/csse_covid_19_data/UID_ISO_FIPS_LookUp_Table.csv\", encoding='utf-8-sig')\n",
    "new_doc = doc[['iso2','Country_Region']]\n",
    "new_doc"
   ]
  },
  {
   "cell_type": "code",
   "execution_count": 364,
   "id": "5eeeb0f4-2f79-4205-a855-988be4125e28",
   "metadata": {},
   "outputs": [
    {
     "data": {
      "text/html": [
       "<div>\n",
       "<style scoped>\n",
       "    .dataframe tbody tr th:only-of-type {\n",
       "        vertical-align: middle;\n",
       "    }\n",
       "\n",
       "    .dataframe tbody tr th {\n",
       "        vertical-align: top;\n",
       "    }\n",
       "\n",
       "    .dataframe thead th {\n",
       "        text-align: right;\n",
       "    }\n",
       "</style>\n",
       "<table border=\"1\" class=\"dataframe\">\n",
       "  <thead>\n",
       "    <tr style=\"text-align: right;\">\n",
       "      <th></th>\n",
       "      <th>iso2</th>\n",
       "      <th>Country_Region</th>\n",
       "    </tr>\n",
       "  </thead>\n",
       "  <tbody>\n",
       "    <tr>\n",
       "      <th>194</th>\n",
       "      <td>GB</td>\n",
       "      <td>United Kingdom</td>\n",
       "    </tr>\n",
       "    <tr>\n",
       "      <th>200</th>\n",
       "      <td>AU</td>\n",
       "      <td>Australia</td>\n",
       "    </tr>\n",
       "    <tr>\n",
       "      <th>201</th>\n",
       "      <td>AU</td>\n",
       "      <td>Australia</td>\n",
       "    </tr>\n",
       "    <tr>\n",
       "      <th>202</th>\n",
       "      <td>AU</td>\n",
       "      <td>Australia</td>\n",
       "    </tr>\n",
       "    <tr>\n",
       "      <th>203</th>\n",
       "      <td>AU</td>\n",
       "      <td>Australia</td>\n",
       "    </tr>\n",
       "    <tr>\n",
       "      <th>...</th>\n",
       "      <td>...</td>\n",
       "      <td>...</td>\n",
       "    </tr>\n",
       "    <tr>\n",
       "      <th>3555</th>\n",
       "      <td>US</td>\n",
       "      <td>US</td>\n",
       "    </tr>\n",
       "    <tr>\n",
       "      <th>3556</th>\n",
       "      <td>US</td>\n",
       "      <td>US</td>\n",
       "    </tr>\n",
       "    <tr>\n",
       "      <th>3557</th>\n",
       "      <td>US</td>\n",
       "      <td>US</td>\n",
       "    </tr>\n",
       "    <tr>\n",
       "      <th>3558</th>\n",
       "      <td>US</td>\n",
       "      <td>US</td>\n",
       "    </tr>\n",
       "    <tr>\n",
       "      <th>3559</th>\n",
       "      <td>US</td>\n",
       "      <td>US</td>\n",
       "    </tr>\n",
       "  </tbody>\n",
       "</table>\n",
       "<p>3353 rows × 2 columns</p>\n",
       "</div>"
      ],
      "text/plain": [
       "     iso2  Country_Region\n",
       "194    GB  United Kingdom\n",
       "200    AU       Australia\n",
       "201    AU       Australia\n",
       "202    AU       Australia\n",
       "203    AU       Australia\n",
       "...   ...             ...\n",
       "3555   US              US\n",
       "3556   US              US\n",
       "3557   US              US\n",
       "3558   US              US\n",
       "3559   US              US\n",
       "\n",
       "[3353 rows x 2 columns]"
      ]
     },
     "execution_count": 364,
     "metadata": {},
     "output_type": "execute_result"
    }
   ],
   "source": [
    "#중복되었는지 확인하는 방법 \n",
    "new_doc[new_doc.duplicated()]"
   ]
  },
  {
   "cell_type": "code",
   "execution_count": 366,
   "id": "e04a43ad-825b-431c-81b4-8f274cf4841f",
   "metadata": {},
   "outputs": [
    {
     "data": {
      "text/html": [
       "<div>\n",
       "<style scoped>\n",
       "    .dataframe tbody tr th:only-of-type {\n",
       "        vertical-align: middle;\n",
       "    }\n",
       "\n",
       "    .dataframe tbody tr th {\n",
       "        vertical-align: top;\n",
       "    }\n",
       "\n",
       "    .dataframe thead th {\n",
       "        text-align: right;\n",
       "    }\n",
       "</style>\n",
       "<table border=\"1\" class=\"dataframe\">\n",
       "  <thead>\n",
       "    <tr style=\"text-align: right;\">\n",
       "      <th></th>\n",
       "      <th>iso2</th>\n",
       "      <th>Country_Region</th>\n",
       "    </tr>\n",
       "  </thead>\n",
       "  <tbody>\n",
       "    <tr>\n",
       "      <th>0</th>\n",
       "      <td>BW</td>\n",
       "      <td>Botswana</td>\n",
       "    </tr>\n",
       "    <tr>\n",
       "      <th>1</th>\n",
       "      <td>BI</td>\n",
       "      <td>Burundi</td>\n",
       "    </tr>\n",
       "    <tr>\n",
       "      <th>2</th>\n",
       "      <td>SL</td>\n",
       "      <td>Sierra Leone</td>\n",
       "    </tr>\n",
       "    <tr>\n",
       "      <th>3</th>\n",
       "      <td>AF</td>\n",
       "      <td>Afghanistan</td>\n",
       "    </tr>\n",
       "    <tr>\n",
       "      <th>4</th>\n",
       "      <td>AL</td>\n",
       "      <td>Albania</td>\n",
       "    </tr>\n",
       "    <tr>\n",
       "      <th>...</th>\n",
       "      <td>...</td>\n",
       "      <td>...</td>\n",
       "    </tr>\n",
       "    <tr>\n",
       "      <th>256</th>\n",
       "      <td>GU</td>\n",
       "      <td>US</td>\n",
       "    </tr>\n",
       "    <tr>\n",
       "      <th>257</th>\n",
       "      <td>MP</td>\n",
       "      <td>US</td>\n",
       "    </tr>\n",
       "    <tr>\n",
       "      <th>258</th>\n",
       "      <td>VI</td>\n",
       "      <td>US</td>\n",
       "    </tr>\n",
       "    <tr>\n",
       "      <th>259</th>\n",
       "      <td>PR</td>\n",
       "      <td>US</td>\n",
       "    </tr>\n",
       "    <tr>\n",
       "      <th>260</th>\n",
       "      <td>US</td>\n",
       "      <td>US</td>\n",
       "    </tr>\n",
       "  </tbody>\n",
       "</table>\n",
       "<p>205 rows × 2 columns</p>\n",
       "</div>"
      ],
      "text/plain": [
       "    iso2 Country_Region\n",
       "0     BW       Botswana\n",
       "1     BI        Burundi\n",
       "2     SL   Sierra Leone\n",
       "3     AF    Afghanistan\n",
       "4     AL        Albania\n",
       "..   ...            ...\n",
       "256   GU             US\n",
       "257   MP             US\n",
       "258   VI             US\n",
       "259   PR             US\n",
       "260   US             US\n",
       "\n",
       "[205 rows x 2 columns]"
      ]
     },
     "execution_count": 366,
     "metadata": {},
     "output_type": "execute_result"
    }
   ],
   "source": [
    "new_doc.drop_duplicates(subset='iso2')"
   ]
  },
  {
   "cell_type": "code",
   "execution_count": null,
   "id": "f66b05b4-758c-4db9-b3b7-982f71e9751a",
   "metadata": {},
   "outputs": [],
   "source": []
  }
 ],
 "metadata": {
  "kernelspec": {
   "display_name": "Python [conda env:base] *",
   "language": "python",
   "name": "conda-base-py"
  },
  "language_info": {
   "codemirror_mode": {
    "name": "ipython",
    "version": 3
   },
   "file_extension": ".py",
   "mimetype": "text/x-python",
   "name": "python",
   "nbconvert_exporter": "python",
   "pygments_lexer": "ipython3",
   "version": "3.12.7"
  }
 },
 "nbformat": 4,
 "nbformat_minor": 5
}
